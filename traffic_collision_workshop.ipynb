{
 "cells": [
  {
   "cell_type": "markdown",
   "metadata": {},
   "source": [
    "# Exploratory Data Analysis on Seattle Collision Data"
   ]
  },
  {
   "cell_type": "markdown",
   "metadata": {},
   "source": [
    "## 1. Introduction\n",
    "\n",
    "As I moved to a new neighborhood in Seattle, I started noticing different types of intersections. For instance, at some intersections:\n",
    "\n",
    "- there is no stop sign for either direction of the traffic. \n",
    "- where one street is a steep hill, it is hard to make a left turn if there are a lot of cars parked on the other street. \n",
    "- there are roundabouts, which are known to be effective in preventing accidents.\n",
    "\n",
    "All of these observations got me interested in looking into the charatcteristics of intersections and the number of accidents at different intersections. As a starting point, I decided to look into collision data made available by Seattle Department of Transportation. The primary goals of this data exploration are to:\n",
    "\n",
    "1. Identify dangerous locations in Seattle\n",
    "1. Identify predictors of accidents (e.g., physical characteristics of the location, road condition, DUI, weather)\n",
    "1. Examine increase or decrease in number of accidents over time\n",
    "\n",
    "The data for this exploratory analysis comes from the following website:\n",
    "https://data-seattlecitygis.opendata.arcgis.com/datasets/collisions"
   ]
  },
  {
   "cell_type": "markdown",
   "metadata": {},
   "source": [
    "## 2. Reading and cleaning the dataframe"
   ]
  },
  {
   "cell_type": "code",
   "execution_count": 1,
   "metadata": {
    "colab": {},
    "colab_type": "code",
    "id": "sFG7fxc7tGes"
   },
   "outputs": [],
   "source": [
    "from datetime import datetime\n",
    "import matplotlib.pyplot as plt\n",
    "%matplotlib inline\n",
    "\n",
    "import numpy as np\n",
    "import pandas as pd\n",
    "import seaborn as sns\n",
    "import altair as alt\n",
    "\n",
    "pd.options.display.max_rows = 500\n",
    "pd.options.display.max_columns = 100\n",
    "\n",
    "alt.renderers.enable('mimetype')\n",
    "\n",
    "import warnings\n",
    "warnings.filterwarnings(\"ignore\") "
   ]
  },
  {
   "cell_type": "code",
   "execution_count": 2,
   "metadata": {},
   "outputs": [],
   "source": [
    "url = \"https://data-seattlecitygis.opendata.arcgis.com/datasets/5b5c745e0f1f48e7a53acec63a0022ab_0.csv\"\n",
    "rdf = pd.read_csv(url, parse_dates=[\"INCDTTM\"])"
   ]
  },
  {
   "cell_type": "code",
   "execution_count": 3,
   "metadata": {},
   "outputs": [],
   "source": [
    "df = rdf.copy()"
   ]
  },
  {
   "cell_type": "code",
   "execution_count": 4,
   "metadata": {},
   "outputs": [
    {
     "data": {
      "text/html": [
       "<div>\n",
       "<style scoped>\n",
       "    .dataframe tbody tr th:only-of-type {\n",
       "        vertical-align: middle;\n",
       "    }\n",
       "\n",
       "    .dataframe tbody tr th {\n",
       "        vertical-align: top;\n",
       "    }\n",
       "\n",
       "    .dataframe thead th {\n",
       "        text-align: right;\n",
       "    }\n",
       "</style>\n",
       "<table border=\"1\" class=\"dataframe\">\n",
       "  <thead>\n",
       "    <tr style=\"text-align: right;\">\n",
       "      <th></th>\n",
       "      <th>X</th>\n",
       "      <th>Y</th>\n",
       "      <th>OBJECTID</th>\n",
       "      <th>INCKEY</th>\n",
       "      <th>COLDETKEY</th>\n",
       "      <th>REPORTNO</th>\n",
       "      <th>STATUS</th>\n",
       "      <th>ADDRTYPE</th>\n",
       "      <th>INTKEY</th>\n",
       "      <th>LOCATION</th>\n",
       "      <th>EXCEPTRSNCODE</th>\n",
       "      <th>EXCEPTRSNDESC</th>\n",
       "      <th>SEVERITYCODE</th>\n",
       "      <th>SEVERITYDESC</th>\n",
       "      <th>COLLISIONTYPE</th>\n",
       "      <th>PERSONCOUNT</th>\n",
       "      <th>PEDCOUNT</th>\n",
       "      <th>PEDCYLCOUNT</th>\n",
       "      <th>VEHCOUNT</th>\n",
       "      <th>INJURIES</th>\n",
       "      <th>SERIOUSINJURIES</th>\n",
       "      <th>FATALITIES</th>\n",
       "      <th>INCDATE</th>\n",
       "      <th>INCDTTM</th>\n",
       "      <th>JUNCTIONTYPE</th>\n",
       "      <th>SDOT_COLCODE</th>\n",
       "      <th>SDOT_COLDESC</th>\n",
       "      <th>INATTENTIONIND</th>\n",
       "      <th>UNDERINFL</th>\n",
       "      <th>WEATHER</th>\n",
       "      <th>ROADCOND</th>\n",
       "      <th>LIGHTCOND</th>\n",
       "      <th>PEDROWNOTGRNT</th>\n",
       "      <th>SDOTCOLNUM</th>\n",
       "      <th>SPEEDING</th>\n",
       "      <th>ST_COLCODE</th>\n",
       "      <th>ST_COLDESC</th>\n",
       "      <th>SEGLANEKEY</th>\n",
       "      <th>CROSSWALKKEY</th>\n",
       "      <th>HITPARKEDCAR</th>\n",
       "    </tr>\n",
       "  </thead>\n",
       "  <tbody>\n",
       "    <tr>\n",
       "      <th>0</th>\n",
       "      <td>-122.336330</td>\n",
       "      <td>47.608989</td>\n",
       "      <td>1</td>\n",
       "      <td>39700</td>\n",
       "      <td>39700</td>\n",
       "      <td>2071591</td>\n",
       "      <td>Matched</td>\n",
       "      <td>Block</td>\n",
       "      <td>NaN</td>\n",
       "      <td>UNION ST BETWEEN 3RD AVE AND 4TH AVE</td>\n",
       "      <td>NaN</td>\n",
       "      <td>NaN</td>\n",
       "      <td>1</td>\n",
       "      <td>Property Damage Only Collision</td>\n",
       "      <td>Parked Car</td>\n",
       "      <td>3</td>\n",
       "      <td>0</td>\n",
       "      <td>0</td>\n",
       "      <td>2</td>\n",
       "      <td>0</td>\n",
       "      <td>0</td>\n",
       "      <td>0</td>\n",
       "      <td>2005/12/16 00:00:00+00</td>\n",
       "      <td>2005-12-16 02:13:00</td>\n",
       "      <td>Mid-Block (not related to intersection)</td>\n",
       "      <td>14.0</td>\n",
       "      <td>MOTOR VEHICLE STRUCK MOTOR VEHICLE, REAR END</td>\n",
       "      <td>NaN</td>\n",
       "      <td>1</td>\n",
       "      <td>Clear</td>\n",
       "      <td>Dry</td>\n",
       "      <td>Dark - Street Lights On</td>\n",
       "      <td>NaN</td>\n",
       "      <td>5350041.0</td>\n",
       "      <td>NaN</td>\n",
       "      <td>32</td>\n",
       "      <td>One parked--one moving</td>\n",
       "      <td>0</td>\n",
       "      <td>0</td>\n",
       "      <td>N</td>\n",
       "    </tr>\n",
       "    <tr>\n",
       "      <th>1</th>\n",
       "      <td>-122.341541</td>\n",
       "      <td>47.612782</td>\n",
       "      <td>2</td>\n",
       "      <td>49700</td>\n",
       "      <td>49700</td>\n",
       "      <td>C673019</td>\n",
       "      <td>Matched</td>\n",
       "      <td>Block</td>\n",
       "      <td>NaN</td>\n",
       "      <td>3RD AVE BETWEEN VIRGINIA ST AND LENORA ST</td>\n",
       "      <td>NaN</td>\n",
       "      <td>NaN</td>\n",
       "      <td>1</td>\n",
       "      <td>Property Damage Only Collision</td>\n",
       "      <td>Parked Car</td>\n",
       "      <td>2</td>\n",
       "      <td>0</td>\n",
       "      <td>0</td>\n",
       "      <td>2</td>\n",
       "      <td>0</td>\n",
       "      <td>0</td>\n",
       "      <td>0</td>\n",
       "      <td>2006/08/19 00:00:00+00</td>\n",
       "      <td>2006-08-19 20:30:00</td>\n",
       "      <td>Mid-Block (not related to intersection)</td>\n",
       "      <td>13.0</td>\n",
       "      <td>MOTOR VEHICLE STRUCK MOTOR VEHICLE, LEFT SIDE ...</td>\n",
       "      <td>NaN</td>\n",
       "      <td>0</td>\n",
       "      <td>Clear</td>\n",
       "      <td>Dry</td>\n",
       "      <td>Dusk</td>\n",
       "      <td>NaN</td>\n",
       "      <td>6231045.0</td>\n",
       "      <td>NaN</td>\n",
       "      <td>32</td>\n",
       "      <td>One parked--one moving</td>\n",
       "      <td>0</td>\n",
       "      <td>0</td>\n",
       "      <td>N</td>\n",
       "    </tr>\n",
       "    <tr>\n",
       "      <th>2</th>\n",
       "      <td>-122.307285</td>\n",
       "      <td>47.624419</td>\n",
       "      <td>3</td>\n",
       "      <td>327890</td>\n",
       "      <td>329390</td>\n",
       "      <td>EA00297</td>\n",
       "      <td>Matched</td>\n",
       "      <td>Intersection</td>\n",
       "      <td>29343.0</td>\n",
       "      <td>19TH AVE E AND E MERCER ST</td>\n",
       "      <td></td>\n",
       "      <td>NaN</td>\n",
       "      <td>2</td>\n",
       "      <td>Injury Collision</td>\n",
       "      <td>Left Turn</td>\n",
       "      <td>2</td>\n",
       "      <td>0</td>\n",
       "      <td>0</td>\n",
       "      <td>2</td>\n",
       "      <td>1</td>\n",
       "      <td>0</td>\n",
       "      <td>0</td>\n",
       "      <td>2020/01/02 00:00:00+00</td>\n",
       "      <td>2020-01-02 14:17:00</td>\n",
       "      <td>At Intersection (intersection related)</td>\n",
       "      <td>11.0</td>\n",
       "      <td>MOTOR VEHICLE STRUCK MOTOR VEHICLE, FRONT END ...</td>\n",
       "      <td>NaN</td>\n",
       "      <td>N</td>\n",
       "      <td>Raining</td>\n",
       "      <td>Wet</td>\n",
       "      <td>Daylight</td>\n",
       "      <td>NaN</td>\n",
       "      <td>NaN</td>\n",
       "      <td>NaN</td>\n",
       "      <td>15</td>\n",
       "      <td>From same direction - one left turn - one stra...</td>\n",
       "      <td>0</td>\n",
       "      <td>0</td>\n",
       "      <td>N</td>\n",
       "    </tr>\n",
       "    <tr>\n",
       "      <th>3</th>\n",
       "      <td>-122.356425</td>\n",
       "      <td>47.525600</td>\n",
       "      <td>4</td>\n",
       "      <td>322271</td>\n",
       "      <td>323771</td>\n",
       "      <td>E949482</td>\n",
       "      <td>Unmatched</td>\n",
       "      <td>Block</td>\n",
       "      <td>NaN</td>\n",
       "      <td>17TH AVE SW BETWEEN SW CLOVERDALE ST AND SW TR...</td>\n",
       "      <td>NEI</td>\n",
       "      <td>Not Enough Information, or Insufficient Locati...</td>\n",
       "      <td>0</td>\n",
       "      <td>Unknown</td>\n",
       "      <td>NaN</td>\n",
       "      <td>0</td>\n",
       "      <td>0</td>\n",
       "      <td>0</td>\n",
       "      <td>0</td>\n",
       "      <td>0</td>\n",
       "      <td>0</td>\n",
       "      <td>0</td>\n",
       "      <td>2019/08/11 00:00:00+00</td>\n",
       "      <td>2019-08-11 00:00:00</td>\n",
       "      <td>NaN</td>\n",
       "      <td>0.0</td>\n",
       "      <td>NOT ENOUGH INFORMATION / NOT APPLICABLE</td>\n",
       "      <td>NaN</td>\n",
       "      <td>NaN</td>\n",
       "      <td>NaN</td>\n",
       "      <td>NaN</td>\n",
       "      <td>NaN</td>\n",
       "      <td>NaN</td>\n",
       "      <td>NaN</td>\n",
       "      <td>NaN</td>\n",
       "      <td></td>\n",
       "      <td>NaN</td>\n",
       "      <td>0</td>\n",
       "      <td>0</td>\n",
       "      <td>Y</td>\n",
       "    </tr>\n",
       "    <tr>\n",
       "      <th>4</th>\n",
       "      <td>-122.313746</td>\n",
       "      <td>47.659802</td>\n",
       "      <td>5</td>\n",
       "      <td>1240</td>\n",
       "      <td>1240</td>\n",
       "      <td>3612955</td>\n",
       "      <td>Matched</td>\n",
       "      <td>Block</td>\n",
       "      <td>NaN</td>\n",
       "      <td>NE 43RD ST BETWEEN BROOKLYN AVE NE AND UNIVERS...</td>\n",
       "      <td></td>\n",
       "      <td>NaN</td>\n",
       "      <td>1</td>\n",
       "      <td>Property Damage Only Collision</td>\n",
       "      <td>Parked Car</td>\n",
       "      <td>2</td>\n",
       "      <td>0</td>\n",
       "      <td>0</td>\n",
       "      <td>2</td>\n",
       "      <td>0</td>\n",
       "      <td>0</td>\n",
       "      <td>0</td>\n",
       "      <td>2013/03/31 00:00:00+00</td>\n",
       "      <td>2013-03-31 22:06:00</td>\n",
       "      <td>Mid-Block (not related to intersection)</td>\n",
       "      <td>14.0</td>\n",
       "      <td>MOTOR VEHICLE STRUCK MOTOR VEHICLE, REAR END</td>\n",
       "      <td>NaN</td>\n",
       "      <td>N</td>\n",
       "      <td>Clear</td>\n",
       "      <td>Dry</td>\n",
       "      <td>Dark - Street Lights On</td>\n",
       "      <td>NaN</td>\n",
       "      <td>NaN</td>\n",
       "      <td>NaN</td>\n",
       "      <td>32</td>\n",
       "      <td>One parked--one moving</td>\n",
       "      <td>0</td>\n",
       "      <td>0</td>\n",
       "      <td>N</td>\n",
       "    </tr>\n",
       "  </tbody>\n",
       "</table>\n",
       "</div>"
      ],
      "text/plain": [
       "            X          Y  OBJECTID  INCKEY  COLDETKEY REPORTNO     STATUS  \\\n",
       "0 -122.336330  47.608989         1   39700      39700  2071591    Matched   \n",
       "1 -122.341541  47.612782         2   49700      49700  C673019    Matched   \n",
       "2 -122.307285  47.624419         3  327890     329390  EA00297    Matched   \n",
       "3 -122.356425  47.525600         4  322271     323771  E949482  Unmatched   \n",
       "4 -122.313746  47.659802         5    1240       1240  3612955    Matched   \n",
       "\n",
       "       ADDRTYPE   INTKEY                                           LOCATION  \\\n",
       "0         Block      NaN               UNION ST BETWEEN 3RD AVE AND 4TH AVE   \n",
       "1         Block      NaN          3RD AVE BETWEEN VIRGINIA ST AND LENORA ST   \n",
       "2  Intersection  29343.0                         19TH AVE E AND E MERCER ST   \n",
       "3         Block      NaN  17TH AVE SW BETWEEN SW CLOVERDALE ST AND SW TR...   \n",
       "4         Block      NaN  NE 43RD ST BETWEEN BROOKLYN AVE NE AND UNIVERS...   \n",
       "\n",
       "  EXCEPTRSNCODE                                      EXCEPTRSNDESC  \\\n",
       "0           NaN                                                NaN   \n",
       "1           NaN                                                NaN   \n",
       "2                                                              NaN   \n",
       "3           NEI  Not Enough Information, or Insufficient Locati...   \n",
       "4                                                              NaN   \n",
       "\n",
       "  SEVERITYCODE                    SEVERITYDESC COLLISIONTYPE  PERSONCOUNT  \\\n",
       "0            1  Property Damage Only Collision    Parked Car            3   \n",
       "1            1  Property Damage Only Collision    Parked Car            2   \n",
       "2            2                Injury Collision     Left Turn            2   \n",
       "3            0                         Unknown           NaN            0   \n",
       "4            1  Property Damage Only Collision    Parked Car            2   \n",
       "\n",
       "   PEDCOUNT  PEDCYLCOUNT  VEHCOUNT  INJURIES  SERIOUSINJURIES  FATALITIES  \\\n",
       "0         0            0         2         0                0           0   \n",
       "1         0            0         2         0                0           0   \n",
       "2         0            0         2         1                0           0   \n",
       "3         0            0         0         0                0           0   \n",
       "4         0            0         2         0                0           0   \n",
       "\n",
       "                  INCDATE             INCDTTM  \\\n",
       "0  2005/12/16 00:00:00+00 2005-12-16 02:13:00   \n",
       "1  2006/08/19 00:00:00+00 2006-08-19 20:30:00   \n",
       "2  2020/01/02 00:00:00+00 2020-01-02 14:17:00   \n",
       "3  2019/08/11 00:00:00+00 2019-08-11 00:00:00   \n",
       "4  2013/03/31 00:00:00+00 2013-03-31 22:06:00   \n",
       "\n",
       "                              JUNCTIONTYPE  SDOT_COLCODE  \\\n",
       "0  Mid-Block (not related to intersection)          14.0   \n",
       "1  Mid-Block (not related to intersection)          13.0   \n",
       "2   At Intersection (intersection related)          11.0   \n",
       "3                                      NaN           0.0   \n",
       "4  Mid-Block (not related to intersection)          14.0   \n",
       "\n",
       "                                        SDOT_COLDESC INATTENTIONIND UNDERINFL  \\\n",
       "0       MOTOR VEHICLE STRUCK MOTOR VEHICLE, REAR END            NaN         1   \n",
       "1  MOTOR VEHICLE STRUCK MOTOR VEHICLE, LEFT SIDE ...            NaN         0   \n",
       "2  MOTOR VEHICLE STRUCK MOTOR VEHICLE, FRONT END ...            NaN         N   \n",
       "3            NOT ENOUGH INFORMATION / NOT APPLICABLE            NaN       NaN   \n",
       "4       MOTOR VEHICLE STRUCK MOTOR VEHICLE, REAR END            NaN         N   \n",
       "\n",
       "   WEATHER ROADCOND                LIGHTCOND PEDROWNOTGRNT  SDOTCOLNUM  \\\n",
       "0    Clear      Dry  Dark - Street Lights On           NaN   5350041.0   \n",
       "1    Clear      Dry                     Dusk           NaN   6231045.0   \n",
       "2  Raining      Wet                 Daylight           NaN         NaN   \n",
       "3      NaN      NaN                      NaN           NaN         NaN   \n",
       "4    Clear      Dry  Dark - Street Lights On           NaN         NaN   \n",
       "\n",
       "  SPEEDING ST_COLCODE                                         ST_COLDESC  \\\n",
       "0      NaN         32                             One parked--one moving   \n",
       "1      NaN         32                             One parked--one moving   \n",
       "2      NaN         15  From same direction - one left turn - one stra...   \n",
       "3      NaN                                                           NaN   \n",
       "4      NaN         32                             One parked--one moving   \n",
       "\n",
       "   SEGLANEKEY  CROSSWALKKEY HITPARKEDCAR  \n",
       "0           0             0            N  \n",
       "1           0             0            N  \n",
       "2           0             0            N  \n",
       "3           0             0            Y  \n",
       "4           0             0            N  "
      ]
     },
     "execution_count": 4,
     "metadata": {},
     "output_type": "execute_result"
    }
   ],
   "source": [
    "df.head()"
   ]
  },
  {
   "cell_type": "code",
   "execution_count": 5,
   "metadata": {},
   "outputs": [
    {
     "data": {
      "text/plain": [
       "(220231, 40)"
      ]
     },
     "execution_count": 5,
     "metadata": {},
     "output_type": "execute_result"
    }
   ],
   "source": [
    "df.shape"
   ]
  },
  {
   "cell_type": "code",
   "execution_count": 6,
   "metadata": {},
   "outputs": [
    {
     "data": {
      "text/plain": [
       "Index(['X', 'Y', 'OBJECTID', 'INCKEY', 'COLDETKEY', 'REPORTNO', 'STATUS',\n",
       "       'ADDRTYPE', 'INTKEY', 'LOCATION', 'EXCEPTRSNCODE', 'EXCEPTRSNDESC',\n",
       "       'SEVERITYCODE', 'SEVERITYDESC', 'COLLISIONTYPE', 'PERSONCOUNT',\n",
       "       'PEDCOUNT', 'PEDCYLCOUNT', 'VEHCOUNT', 'INJURIES', 'SERIOUSINJURIES',\n",
       "       'FATALITIES', 'INCDATE', 'INCDTTM', 'JUNCTIONTYPE', 'SDOT_COLCODE',\n",
       "       'SDOT_COLDESC', 'INATTENTIONIND', 'UNDERINFL', 'WEATHER', 'ROADCOND',\n",
       "       'LIGHTCOND', 'PEDROWNOTGRNT', 'SDOTCOLNUM', 'SPEEDING', 'ST_COLCODE',\n",
       "       'ST_COLDESC', 'SEGLANEKEY', 'CROSSWALKKEY', 'HITPARKEDCAR'],\n",
       "      dtype='object')"
      ]
     },
     "execution_count": 6,
     "metadata": {},
     "output_type": "execute_result"
    }
   ],
   "source": [
    "df.columns"
   ]
  },
  {
   "cell_type": "markdown",
   "metadata": {},
   "source": [
    "For information about each column, you can refer to:\n",
    "\n",
    "https://www.seattle.gov/Documents/Departments/SDOT/GIS/Collisions_OD.pdf"
   ]
  },
  {
   "cell_type": "code",
   "execution_count": 7,
   "metadata": {},
   "outputs": [
    {
     "data": {
      "text/plain": [
       "X                         float64\n",
       "Y                         float64\n",
       "OBJECTID                    int64\n",
       "INCKEY                      int64\n",
       "COLDETKEY                   int64\n",
       "REPORTNO                   object\n",
       "STATUS                     object\n",
       "ADDRTYPE                   object\n",
       "INTKEY                    float64\n",
       "LOCATION                   object\n",
       "EXCEPTRSNCODE              object\n",
       "EXCEPTRSNDESC              object\n",
       "SEVERITYCODE               object\n",
       "SEVERITYDESC               object\n",
       "COLLISIONTYPE              object\n",
       "PERSONCOUNT                 int64\n",
       "PEDCOUNT                    int64\n",
       "PEDCYLCOUNT                 int64\n",
       "VEHCOUNT                    int64\n",
       "INJURIES                    int64\n",
       "SERIOUSINJURIES             int64\n",
       "FATALITIES                  int64\n",
       "INCDATE                    object\n",
       "INCDTTM            datetime64[ns]\n",
       "JUNCTIONTYPE               object\n",
       "SDOT_COLCODE              float64\n",
       "SDOT_COLDESC               object\n",
       "INATTENTIONIND             object\n",
       "UNDERINFL                  object\n",
       "WEATHER                    object\n",
       "ROADCOND                   object\n",
       "LIGHTCOND                  object\n",
       "PEDROWNOTGRNT              object\n",
       "SDOTCOLNUM                float64\n",
       "SPEEDING                   object\n",
       "ST_COLCODE                 object\n",
       "ST_COLDESC                 object\n",
       "SEGLANEKEY                  int64\n",
       "CROSSWALKKEY                int64\n",
       "HITPARKEDCAR               object\n",
       "dtype: object"
      ]
     },
     "execution_count": 7,
     "metadata": {},
     "output_type": "execute_result"
    }
   ],
   "source": [
    "df.dtypes"
   ]
  },
  {
   "cell_type": "markdown",
   "metadata": {},
   "source": [
    "As you can see, most columns are categorical in this dataset. There are only several numeric variables."
   ]
  },
  {
   "cell_type": "markdown",
   "metadata": {},
   "source": [
    "## 3. Understand the dataframe in relation to the questions at hand"
   ]
  },
  {
   "cell_type": "markdown",
   "metadata": {},
   "source": [
    "## a. The scope of each accident\n",
    "\n",
    "The following columns (also happen to be the only nuerimc columns in this dataset) provide information about what each accident looked like: \n",
    "\n",
    "- PERSONCOUNT (# of people invovled)\n",
    "- PEDCOUNT (# of pedestirans involved)\n",
    "- PEDCYLCOUNT (# of cyclists involved)\n",
    "- VEHCOUNT (# of vehicles involved)\n",
    "- INJURIES (# of injuries)\n",
    "- SERIOUSINJURIES (# of serious injuries)\n",
    "- FATALITIES (# of deaths)"
   ]
  },
  {
   "cell_type": "markdown",
   "metadata": {},
   "source": [
    "## b. Columns that could serve as risk factors for accidents\n",
    "\n",
    "**External factors** \n",
    "\n",
    "These are the variables not dependent on the characteristics of the collision site\n",
    "\n",
    "- LIGHTCOND (light condition)   \n",
    "- WEATHER (description of the weather conditions during the time of the collision)   "
   ]
  },
  {
   "cell_type": "markdown",
   "metadata": {},
   "source": [
    "**Human factors**\n",
    "\n",
    "These are the variables about the individuals that were involved in the accident\n",
    "\n",
    "- INATTENTIONIND (whether or not the collision was due to inattention)\n",
    "- UNDERINFL (whether or not a driver involved was under the influence)\n",
    "- PEDROWNOTGRNT(Whether or not the pedestrian right of way was not granted)\n",
    "- SPEEDING (whether or not speeding was a factor in the collision)\n",
    "- ST_COLCODE (a code provided by the state that describes the collision)"
   ]
  },
  {
   "cell_type": "markdown",
   "metadata": {},
   "source": [
    "**Characteristics of the site**\n",
    "\n",
    "- ADDRTYPE (address type)\n",
    "- LOCATION (described in street names and numbers)\n",
    "- X & Y (GPS location) \n",
    "- CROSSWALKKEY (crosswalk label): Not clear what each value means\n",
    "- JUNCTIONTYPE (junction type): Not clear what each value means\n",
    "- ROADCOND (road condition)  "
   ]
  },
  {
   "cell_type": "code",
   "execution_count": 8,
   "metadata": {},
   "outputs": [
    {
     "data": {
      "text/html": [
       "<div>\n",
       "<style scoped>\n",
       "    .dataframe tbody tr th:only-of-type {\n",
       "        vertical-align: middle;\n",
       "    }\n",
       "\n",
       "    .dataframe tbody tr th {\n",
       "        vertical-align: top;\n",
       "    }\n",
       "\n",
       "    .dataframe thead th {\n",
       "        text-align: right;\n",
       "    }\n",
       "</style>\n",
       "<table border=\"1\" class=\"dataframe\">\n",
       "  <thead>\n",
       "    <tr style=\"text-align: right;\">\n",
       "      <th></th>\n",
       "      <th>x</th>\n",
       "      <th>y</th>\n",
       "      <th>objectid</th>\n",
       "      <th>inckey</th>\n",
       "      <th>coldetkey</th>\n",
       "      <th>reportno</th>\n",
       "      <th>status</th>\n",
       "      <th>addrtype</th>\n",
       "      <th>intkey</th>\n",
       "      <th>location</th>\n",
       "      <th>exceptrsncode</th>\n",
       "      <th>exceptrsndesc</th>\n",
       "      <th>severitycode</th>\n",
       "      <th>severitydesc</th>\n",
       "      <th>collisiontype</th>\n",
       "      <th>personcount</th>\n",
       "      <th>pedcount</th>\n",
       "      <th>pedcylcount</th>\n",
       "      <th>vehcount</th>\n",
       "      <th>injuries</th>\n",
       "      <th>seriousinjuries</th>\n",
       "      <th>fatalities</th>\n",
       "      <th>incdate</th>\n",
       "      <th>incdttm</th>\n",
       "      <th>junctiontype</th>\n",
       "      <th>sdot_colcode</th>\n",
       "      <th>sdot_coldesc</th>\n",
       "      <th>inattentionind</th>\n",
       "      <th>underinfl</th>\n",
       "      <th>weather</th>\n",
       "      <th>roadcond</th>\n",
       "      <th>lightcond</th>\n",
       "      <th>pedrownotgrnt</th>\n",
       "      <th>sdotcolnum</th>\n",
       "      <th>speeding</th>\n",
       "      <th>st_colcode</th>\n",
       "      <th>st_coldesc</th>\n",
       "      <th>seglanekey</th>\n",
       "      <th>crosswalkkey</th>\n",
       "      <th>hitparkedcar</th>\n",
       "    </tr>\n",
       "  </thead>\n",
       "  <tbody>\n",
       "    <tr>\n",
       "      <th>0</th>\n",
       "      <td>-122.336330</td>\n",
       "      <td>47.608989</td>\n",
       "      <td>1</td>\n",
       "      <td>39700</td>\n",
       "      <td>39700</td>\n",
       "      <td>2071591</td>\n",
       "      <td>Matched</td>\n",
       "      <td>Block</td>\n",
       "      <td>NaN</td>\n",
       "      <td>UNION ST BETWEEN 3RD AVE AND 4TH AVE</td>\n",
       "      <td>NaN</td>\n",
       "      <td>NaN</td>\n",
       "      <td>1</td>\n",
       "      <td>Property Damage Only Collision</td>\n",
       "      <td>Parked Car</td>\n",
       "      <td>3</td>\n",
       "      <td>0</td>\n",
       "      <td>0</td>\n",
       "      <td>2</td>\n",
       "      <td>0</td>\n",
       "      <td>0</td>\n",
       "      <td>0</td>\n",
       "      <td>2005/12/16 00:00:00+00</td>\n",
       "      <td>2005-12-16 02:13:00</td>\n",
       "      <td>Mid-Block (not related to intersection)</td>\n",
       "      <td>14.0</td>\n",
       "      <td>MOTOR VEHICLE STRUCK MOTOR VEHICLE, REAR END</td>\n",
       "      <td>NaN</td>\n",
       "      <td>1</td>\n",
       "      <td>Clear</td>\n",
       "      <td>Dry</td>\n",
       "      <td>Dark - Street Lights On</td>\n",
       "      <td>NaN</td>\n",
       "      <td>5350041.0</td>\n",
       "      <td>NaN</td>\n",
       "      <td>32</td>\n",
       "      <td>One parked--one moving</td>\n",
       "      <td>0</td>\n",
       "      <td>0</td>\n",
       "      <td>N</td>\n",
       "    </tr>\n",
       "    <tr>\n",
       "      <th>1</th>\n",
       "      <td>-122.341541</td>\n",
       "      <td>47.612782</td>\n",
       "      <td>2</td>\n",
       "      <td>49700</td>\n",
       "      <td>49700</td>\n",
       "      <td>C673019</td>\n",
       "      <td>Matched</td>\n",
       "      <td>Block</td>\n",
       "      <td>NaN</td>\n",
       "      <td>3RD AVE BETWEEN VIRGINIA ST AND LENORA ST</td>\n",
       "      <td>NaN</td>\n",
       "      <td>NaN</td>\n",
       "      <td>1</td>\n",
       "      <td>Property Damage Only Collision</td>\n",
       "      <td>Parked Car</td>\n",
       "      <td>2</td>\n",
       "      <td>0</td>\n",
       "      <td>0</td>\n",
       "      <td>2</td>\n",
       "      <td>0</td>\n",
       "      <td>0</td>\n",
       "      <td>0</td>\n",
       "      <td>2006/08/19 00:00:00+00</td>\n",
       "      <td>2006-08-19 20:30:00</td>\n",
       "      <td>Mid-Block (not related to intersection)</td>\n",
       "      <td>13.0</td>\n",
       "      <td>MOTOR VEHICLE STRUCK MOTOR VEHICLE, LEFT SIDE ...</td>\n",
       "      <td>NaN</td>\n",
       "      <td>0</td>\n",
       "      <td>Clear</td>\n",
       "      <td>Dry</td>\n",
       "      <td>Dusk</td>\n",
       "      <td>NaN</td>\n",
       "      <td>6231045.0</td>\n",
       "      <td>NaN</td>\n",
       "      <td>32</td>\n",
       "      <td>One parked--one moving</td>\n",
       "      <td>0</td>\n",
       "      <td>0</td>\n",
       "      <td>N</td>\n",
       "    </tr>\n",
       "    <tr>\n",
       "      <th>2</th>\n",
       "      <td>-122.307285</td>\n",
       "      <td>47.624419</td>\n",
       "      <td>3</td>\n",
       "      <td>327890</td>\n",
       "      <td>329390</td>\n",
       "      <td>EA00297</td>\n",
       "      <td>Matched</td>\n",
       "      <td>Intersection</td>\n",
       "      <td>29343.0</td>\n",
       "      <td>19TH AVE E AND E MERCER ST</td>\n",
       "      <td></td>\n",
       "      <td>NaN</td>\n",
       "      <td>2</td>\n",
       "      <td>Injury Collision</td>\n",
       "      <td>Left Turn</td>\n",
       "      <td>2</td>\n",
       "      <td>0</td>\n",
       "      <td>0</td>\n",
       "      <td>2</td>\n",
       "      <td>1</td>\n",
       "      <td>0</td>\n",
       "      <td>0</td>\n",
       "      <td>2020/01/02 00:00:00+00</td>\n",
       "      <td>2020-01-02 14:17:00</td>\n",
       "      <td>At Intersection (intersection related)</td>\n",
       "      <td>11.0</td>\n",
       "      <td>MOTOR VEHICLE STRUCK MOTOR VEHICLE, FRONT END ...</td>\n",
       "      <td>NaN</td>\n",
       "      <td>N</td>\n",
       "      <td>Raining</td>\n",
       "      <td>Wet</td>\n",
       "      <td>Daylight</td>\n",
       "      <td>NaN</td>\n",
       "      <td>NaN</td>\n",
       "      <td>NaN</td>\n",
       "      <td>15</td>\n",
       "      <td>From same direction - one left turn - one stra...</td>\n",
       "      <td>0</td>\n",
       "      <td>0</td>\n",
       "      <td>N</td>\n",
       "    </tr>\n",
       "  </tbody>\n",
       "</table>\n",
       "</div>"
      ],
      "text/plain": [
       "            x          y  objectid  inckey  coldetkey reportno   status  \\\n",
       "0 -122.336330  47.608989         1   39700      39700  2071591  Matched   \n",
       "1 -122.341541  47.612782         2   49700      49700  C673019  Matched   \n",
       "2 -122.307285  47.624419         3  327890     329390  EA00297  Matched   \n",
       "\n",
       "       addrtype   intkey                                   location  \\\n",
       "0         Block      NaN       UNION ST BETWEEN 3RD AVE AND 4TH AVE   \n",
       "1         Block      NaN  3RD AVE BETWEEN VIRGINIA ST AND LENORA ST   \n",
       "2  Intersection  29343.0                 19TH AVE E AND E MERCER ST   \n",
       "\n",
       "  exceptrsncode exceptrsndesc severitycode                    severitydesc  \\\n",
       "0           NaN           NaN            1  Property Damage Only Collision   \n",
       "1           NaN           NaN            1  Property Damage Only Collision   \n",
       "2                         NaN            2                Injury Collision   \n",
       "\n",
       "  collisiontype  personcount  pedcount  pedcylcount  vehcount  injuries  \\\n",
       "0    Parked Car            3         0            0         2         0   \n",
       "1    Parked Car            2         0            0         2         0   \n",
       "2     Left Turn            2         0            0         2         1   \n",
       "\n",
       "   seriousinjuries  fatalities                 incdate             incdttm  \\\n",
       "0                0           0  2005/12/16 00:00:00+00 2005-12-16 02:13:00   \n",
       "1                0           0  2006/08/19 00:00:00+00 2006-08-19 20:30:00   \n",
       "2                0           0  2020/01/02 00:00:00+00 2020-01-02 14:17:00   \n",
       "\n",
       "                              junctiontype  sdot_colcode  \\\n",
       "0  Mid-Block (not related to intersection)          14.0   \n",
       "1  Mid-Block (not related to intersection)          13.0   \n",
       "2   At Intersection (intersection related)          11.0   \n",
       "\n",
       "                                        sdot_coldesc inattentionind underinfl  \\\n",
       "0       MOTOR VEHICLE STRUCK MOTOR VEHICLE, REAR END            NaN         1   \n",
       "1  MOTOR VEHICLE STRUCK MOTOR VEHICLE, LEFT SIDE ...            NaN         0   \n",
       "2  MOTOR VEHICLE STRUCK MOTOR VEHICLE, FRONT END ...            NaN         N   \n",
       "\n",
       "   weather roadcond                lightcond pedrownotgrnt  sdotcolnum  \\\n",
       "0    Clear      Dry  Dark - Street Lights On           NaN   5350041.0   \n",
       "1    Clear      Dry                     Dusk           NaN   6231045.0   \n",
       "2  Raining      Wet                 Daylight           NaN         NaN   \n",
       "\n",
       "  speeding st_colcode                                         st_coldesc  \\\n",
       "0      NaN         32                             One parked--one moving   \n",
       "1      NaN         32                             One parked--one moving   \n",
       "2      NaN         15  From same direction - one left turn - one stra...   \n",
       "\n",
       "   seglanekey  crosswalkkey hitparkedcar  \n",
       "0           0             0            N  \n",
       "1           0             0            N  \n",
       "2           0             0            N  "
      ]
     },
     "execution_count": 8,
     "metadata": {},
     "output_type": "execute_result"
    }
   ],
   "source": [
    "df.columns = map(str.lower, df.columns)\n",
    "df.head(3)"
   ]
  },
  {
   "cell_type": "markdown",
   "metadata": {},
   "source": [
    "## 8. Understand individual columns\n",
    "\n",
    "This section examines some of the columns by answering questions that stem from the three of the goals mentioned above."
   ]
  },
  {
   "cell_type": "markdown",
   "metadata": {},
   "source": [
    "## Goal 1: Which locations are dangerous?"
   ]
  },
  {
   "cell_type": "markdown",
   "metadata": {},
   "source": [
    "### Q1. How to decide that a location is dangerous?"
   ]
  },
  {
   "cell_type": "markdown",
   "metadata": {},
   "source": [
    "Dangerousness could be defined by:\n",
    "\n",
    "- Severity of accidents\n",
    "- Number of accidents"
   ]
  },
  {
   "cell_type": "markdown",
   "metadata": {},
   "source": [
    "Let's take a look at the numeric columns to understand the scope of these accidents."
   ]
  },
  {
   "cell_type": "code",
   "execution_count": 9,
   "metadata": {},
   "outputs": [],
   "source": [
    "num_columns = [\n",
    "    'personcount',\n",
    "    'pedcount',\n",
    "    'pedcylcount',\n",
    "    'vehcount',\n",
    "    'injuries',\n",
    "    'seriousinjuries',\n",
    "    'fatalities']"
   ]
  },
  {
   "cell_type": "code",
   "execution_count": 10,
   "metadata": {},
   "outputs": [
    {
     "data": {
      "text/html": [
       "<div>\n",
       "<style scoped>\n",
       "    .dataframe tbody tr th:only-of-type {\n",
       "        vertical-align: middle;\n",
       "    }\n",
       "\n",
       "    .dataframe tbody tr th {\n",
       "        vertical-align: top;\n",
       "    }\n",
       "\n",
       "    .dataframe thead th {\n",
       "        text-align: right;\n",
       "    }\n",
       "</style>\n",
       "<table border=\"1\" class=\"dataframe\">\n",
       "  <thead>\n",
       "    <tr style=\"text-align: right;\">\n",
       "      <th></th>\n",
       "      <th>personcount</th>\n",
       "      <th>pedcount</th>\n",
       "      <th>pedcylcount</th>\n",
       "      <th>vehcount</th>\n",
       "      <th>injuries</th>\n",
       "      <th>seriousinjuries</th>\n",
       "      <th>fatalities</th>\n",
       "    </tr>\n",
       "  </thead>\n",
       "  <tbody>\n",
       "    <tr>\n",
       "      <th>count</th>\n",
       "      <td>220231.000</td>\n",
       "      <td>220231.000</td>\n",
       "      <td>220231.000</td>\n",
       "      <td>220231.000</td>\n",
       "      <td>220231.000</td>\n",
       "      <td>220231.000</td>\n",
       "      <td>220231.000</td>\n",
       "    </tr>\n",
       "    <tr>\n",
       "      <th>mean</th>\n",
       "      <td>2.226</td>\n",
       "      <td>0.038</td>\n",
       "      <td>0.027</td>\n",
       "      <td>1.728</td>\n",
       "      <td>0.374</td>\n",
       "      <td>0.015</td>\n",
       "      <td>0.002</td>\n",
       "    </tr>\n",
       "    <tr>\n",
       "      <th>std</th>\n",
       "      <td>1.472</td>\n",
       "      <td>0.202</td>\n",
       "      <td>0.164</td>\n",
       "      <td>0.831</td>\n",
       "      <td>0.732</td>\n",
       "      <td>0.158</td>\n",
       "      <td>0.045</td>\n",
       "    </tr>\n",
       "    <tr>\n",
       "      <th>min</th>\n",
       "      <td>0.000</td>\n",
       "      <td>0.000</td>\n",
       "      <td>0.000</td>\n",
       "      <td>0.000</td>\n",
       "      <td>0.000</td>\n",
       "      <td>0.000</td>\n",
       "      <td>0.000</td>\n",
       "    </tr>\n",
       "    <tr>\n",
       "      <th>25%</th>\n",
       "      <td>2.000</td>\n",
       "      <td>0.000</td>\n",
       "      <td>0.000</td>\n",
       "      <td>2.000</td>\n",
       "      <td>0.000</td>\n",
       "      <td>0.000</td>\n",
       "      <td>0.000</td>\n",
       "    </tr>\n",
       "    <tr>\n",
       "      <th>50%</th>\n",
       "      <td>2.000</td>\n",
       "      <td>0.000</td>\n",
       "      <td>0.000</td>\n",
       "      <td>2.000</td>\n",
       "      <td>0.000</td>\n",
       "      <td>0.000</td>\n",
       "      <td>0.000</td>\n",
       "    </tr>\n",
       "    <tr>\n",
       "      <th>75%</th>\n",
       "      <td>3.000</td>\n",
       "      <td>0.000</td>\n",
       "      <td>0.000</td>\n",
       "      <td>2.000</td>\n",
       "      <td>1.000</td>\n",
       "      <td>0.000</td>\n",
       "      <td>0.000</td>\n",
       "    </tr>\n",
       "    <tr>\n",
       "      <th>max</th>\n",
       "      <td>93.000</td>\n",
       "      <td>6.000</td>\n",
       "      <td>2.000</td>\n",
       "      <td>15.000</td>\n",
       "      <td>78.000</td>\n",
       "      <td>41.000</td>\n",
       "      <td>5.000</td>\n",
       "    </tr>\n",
       "  </tbody>\n",
       "</table>\n",
       "</div>"
      ],
      "text/plain": [
       "       personcount    pedcount  pedcylcount    vehcount    injuries  \\\n",
       "count   220231.000  220231.000   220231.000  220231.000  220231.000   \n",
       "mean         2.226       0.038        0.027       1.728       0.374   \n",
       "std          1.472       0.202        0.164       0.831       0.732   \n",
       "min          0.000       0.000        0.000       0.000       0.000   \n",
       "25%          2.000       0.000        0.000       2.000       0.000   \n",
       "50%          2.000       0.000        0.000       2.000       0.000   \n",
       "75%          3.000       0.000        0.000       2.000       1.000   \n",
       "max         93.000       6.000        2.000      15.000      78.000   \n",
       "\n",
       "       seriousinjuries  fatalities  \n",
       "count       220231.000  220231.000  \n",
       "mean             0.015       0.002  \n",
       "std              0.158       0.045  \n",
       "min              0.000       0.000  \n",
       "25%              0.000       0.000  \n",
       "50%              0.000       0.000  \n",
       "75%              0.000       0.000  \n",
       "max             41.000       5.000  "
      ]
     },
     "execution_count": 10,
     "metadata": {},
     "output_type": "execute_result"
    }
   ],
   "source": [
    "np.round(df[num_columns].describe(), 3)"
   ]
  },
  {
   "cell_type": "markdown",
   "metadata": {},
   "source": [
    "- There is no missing values for these columns\n",
    "- There isn't a lot of variability in the values for these columns\n",
    "- There seem to be some outliers (e.g., `personcount`, `injuries`)"
   ]
  },
  {
   "cell_type": "markdown",
   "metadata": {},
   "source": [
    "Let's take a look at these columns with some visualization."
   ]
  },
  {
   "cell_type": "code",
   "execution_count": 11,
   "metadata": {},
   "outputs": [
    {
     "data": {
      "image/png": "[encoded data removed]",
      "text/plain": [
       "<Figure size 864x432 with 2 Axes>"
      ]
     },
     "metadata": {
      "needs_background": "light"
     },
     "output_type": "display_data"
    },
    {
     "data": {
      "image/png": "[encoded data removed]",
      "text/plain": [
       "<Figure size 864x432 with 2 Axes>"
      ]
     },
     "metadata": {
      "needs_background": "light"
     },
     "output_type": "display_data"
    },
    {
     "data": {
      "image/png": "[encoded data removed]",
      "text/plain": [
       "<Figure size 864x432 with 2 Axes>"
      ]
     },
     "metadata": {
      "needs_background": "light"
     },
     "output_type": "display_data"
    },
    {
     "data": {
      "image/png": "[encoded data removed]",
      "text/plain": [
       "<Figure size 864x432 with 2 Axes>"
      ]
     },
     "metadata": {
      "needs_background": "light"
     },
     "output_type": "display_data"
    },
    {
     "data": {
      "image/png": "[encoded data removed]",
      "text/plain": [
       "<Figure size 864x432 with 2 Axes>"
      ]
     },
     "metadata": {
      "needs_background": "light"
     },
     "output_type": "display_data"
    },
    {
     "data": {
      "image/png": "[encoded data removed]",
      "text/plain": [
       "<Figure size 864x432 with 2 Axes>"
      ]
     },
     "metadata": {
      "needs_background": "light"
     },
     "output_type": "display_data"
    },
    {
     "data": {
      "image/png": "[encoded data removed]",
      "text/plain": [
       "<Figure size 864x432 with 2 Axes>"
      ]
     },
     "metadata": {
      "needs_background": "light"
     },
     "output_type": "display_data"
    }
   ],
   "source": [
    "for column in num_columns:\n",
    "    fig = plt.figure(figsize=(12, 6))\n",
    "    \n",
    "    left = fig.add_subplot(1, 2, 1)\n",
    "    right = fig.add_subplot(1, 2, 2)\n",
    "    \n",
    "    tempdf = df[column].value_counts(sort=False, dropna=False).to_frame()\n",
    "    tempdf.plot.bar(ax=left)\n",
    "    tempdf.boxplot(ax=right)"
   ]
  },
  {
   "cell_type": "markdown",
   "metadata": {},
   "source": [
    "It seems that the most common accidents involved:\n",
    "\n",
    "- 2 people and 2 vehicles\n",
    "- 0 pedestrians or cyclists\n",
    "- 0 to 1 injuries\n",
    "- 0 deaths\n",
    "- It might be difficult to use `pedcount`, `pedcylcount`, `seriousinjuries`, and `fatalities` as measures of dangerous locations due to the lack of variability in these columns.\n",
    "\n",
    "Let's try using the number of accidents as a way to measure a location's dangerousness next."
   ]
  },
  {
   "cell_type": "markdown",
   "metadata": {},
   "source": [
    "### Q2. Which locations have had the highest total number of accidents?"
   ]
  },
  {
   "cell_type": "code",
   "execution_count": 12,
   "metadata": {},
   "outputs": [
    {
     "data": {
      "text/html": [
       "<div>\n",
       "<style scoped>\n",
       "    .dataframe tbody tr th:only-of-type {\n",
       "        vertical-align: middle;\n",
       "    }\n",
       "\n",
       "    .dataframe tbody tr th {\n",
       "        vertical-align: top;\n",
       "    }\n",
       "\n",
       "    .dataframe thead th {\n",
       "        text-align: right;\n",
       "    }\n",
       "</style>\n",
       "<table border=\"1\" class=\"dataframe\">\n",
       "  <thead>\n",
       "    <tr style=\"text-align: right;\">\n",
       "      <th></th>\n",
       "      <th>count</th>\n",
       "    </tr>\n",
       "  </thead>\n",
       "  <tbody>\n",
       "    <tr>\n",
       "      <th>BATTERY ST TUNNEL NB BETWEEN ALASKAN WY VI NB AND AURORA AVE N</th>\n",
       "      <td>298</td>\n",
       "    </tr>\n",
       "    <tr>\n",
       "      <th>N NORTHGATE WAY BETWEEN MERIDIAN AVE N AND CORLISS AVE N</th>\n",
       "      <td>295</td>\n",
       "    </tr>\n",
       "    <tr>\n",
       "      <th>BATTERY ST TUNNEL SB BETWEEN AURORA AVE N AND ALASKAN WY VI SB</th>\n",
       "      <td>291</td>\n",
       "    </tr>\n",
       "    <tr>\n",
       "      <th>AURORA AVE N BETWEEN N 117TH PL AND N 125TH ST</th>\n",
       "      <td>280</td>\n",
       "    </tr>\n",
       "    <tr>\n",
       "      <th>6TH AVE AND JAMES ST</th>\n",
       "      <td>271</td>\n",
       "    </tr>\n",
       "    <tr>\n",
       "      <th>AURORA AVE N BETWEEN N 130TH ST AND N 135TH ST</th>\n",
       "      <td>269</td>\n",
       "    </tr>\n",
       "    <tr>\n",
       "      <th>ALASKAN WY VI NB BETWEEN S ROYAL BROUGHAM WAY ON RP AND SENECA ST OFF RP</th>\n",
       "      <td>256</td>\n",
       "    </tr>\n",
       "  </tbody>\n",
       "</table>\n",
       "</div>"
      ],
      "text/plain": [
       "                                                    count\n",
       "BATTERY ST TUNNEL NB BETWEEN ALASKAN WY VI NB A...    298\n",
       "N NORTHGATE WAY BETWEEN MERIDIAN AVE N AND CORL...    295\n",
       "BATTERY ST TUNNEL SB BETWEEN AURORA AVE N AND A...    291\n",
       "AURORA AVE N BETWEEN N 117TH PL AND N 125TH ST        280\n",
       "6TH AVE AND JAMES ST                                  271\n",
       "AURORA AVE N BETWEEN N 130TH ST AND N 135TH ST        269\n",
       "ALASKAN WY VI NB BETWEEN S ROYAL BROUGHAM WAY O...    256"
      ]
     },
     "execution_count": 12,
     "metadata": {},
     "output_type": "execute_result"
    }
   ],
   "source": [
    "locdf = df['location'].value_counts().to_frame('count')\n",
    "locdf = locdf.head(7)\n",
    "locdf"
   ]
  },
  {
   "cell_type": "markdown",
   "metadata": {},
   "source": [
    "- It's important to keep in mind that the heavier the traffic is, the more likely there is to be an accident. \n",
    "- So these locations may have the highest numers of accidents, but also may have the highest volume of overall traffic. "
   ]
  },
  {
   "cell_type": "markdown",
   "metadata": {},
   "source": [
    "Above, dangerousness was defined by the **total** number of incidents. Let's try looking into the number of **severe** incidents."
   ]
  },
  {
   "cell_type": "markdown",
   "metadata": {},
   "source": [
    "### Q3. Which locations have the highest numbers of severe incidents?"
   ]
  },
  {
   "cell_type": "markdown",
   "metadata": {},
   "source": [
    "First, let's take a look at the categories of `severitycode`."
   ]
  },
  {
   "cell_type": "code",
   "execution_count": 13,
   "metadata": {},
   "outputs": [],
   "source": [
    "df['severitycode'] = df['severitycode'].map({\n",
    "    '0': 'Unknown', \n",
    "    '1': 'Prop_damage_only', \n",
    "    '2': 'Injury',\n",
    "    '2b': 'Serious_injury', '3': 'Fatality'\n",
    "})"
   ]
  },
  {
   "cell_type": "code",
   "execution_count": 14,
   "metadata": {},
   "outputs": [
    {
     "data": {
      "text/html": [
       "<div>\n",
       "<style scoped>\n",
       "    .dataframe tbody tr th:only-of-type {\n",
       "        vertical-align: middle;\n",
       "    }\n",
       "\n",
       "    .dataframe tbody tr th {\n",
       "        vertical-align: top;\n",
       "    }\n",
       "\n",
       "    .dataframe thead th {\n",
       "        text-align: right;\n",
       "    }\n",
       "</style>\n",
       "<table border=\"1\" class=\"dataframe\">\n",
       "  <thead>\n",
       "    <tr style=\"text-align: right;\">\n",
       "      <th></th>\n",
       "      <th>count</th>\n",
       "      <th>Percentage</th>\n",
       "    </tr>\n",
       "  </thead>\n",
       "  <tbody>\n",
       "    <tr>\n",
       "      <th>Prop_damage_only</th>\n",
       "      <td>136883</td>\n",
       "      <td>0.621543</td>\n",
       "    </tr>\n",
       "    <tr>\n",
       "      <th>Injury</th>\n",
       "      <td>58390</td>\n",
       "      <td>0.265131</td>\n",
       "    </tr>\n",
       "    <tr>\n",
       "      <th>Unknown</th>\n",
       "      <td>21538</td>\n",
       "      <td>0.097797</td>\n",
       "    </tr>\n",
       "    <tr>\n",
       "      <th>Serious_injury</th>\n",
       "      <td>3072</td>\n",
       "      <td>0.013949</td>\n",
       "    </tr>\n",
       "    <tr>\n",
       "      <th>Fatality</th>\n",
       "      <td>347</td>\n",
       "      <td>0.001576</td>\n",
       "    </tr>\n",
       "    <tr>\n",
       "      <th>NaN</th>\n",
       "      <td>1</td>\n",
       "      <td>0.000005</td>\n",
       "    </tr>\n",
       "  </tbody>\n",
       "</table>\n",
       "</div>"
      ],
      "text/plain": [
       "                   count  Percentage\n",
       "Prop_damage_only  136883    0.621543\n",
       "Injury             58390    0.265131\n",
       "Unknown            21538    0.097797\n",
       "Serious_injury      3072    0.013949\n",
       "Fatality             347    0.001576\n",
       "NaN                    1    0.000005"
      ]
     },
     "execution_count": 14,
     "metadata": {},
     "output_type": "execute_result"
    }
   ],
   "source": [
    "severity = df['severitycode'].value_counts(dropna=False).to_frame('count')\n",
    "severity['Percentage'] = severity['count']/ (severity['count'].sum())\n",
    "severity"
   ]
  },
  {
   "cell_type": "markdown",
   "metadata": {},
   "source": [
    "Looks like the majority of the accidents only involve property damage. But about 27% of the accidents involve injuries."
   ]
  },
  {
   "cell_type": "code",
   "execution_count": 15,
   "metadata": {},
   "outputs": [
    {
     "data": {
      "text/html": [
       "<div>\n",
       "<style scoped>\n",
       "    .dataframe tbody tr th:only-of-type {\n",
       "        vertical-align: middle;\n",
       "    }\n",
       "\n",
       "    .dataframe tbody tr th {\n",
       "        vertical-align: top;\n",
       "    }\n",
       "\n",
       "    .dataframe thead th {\n",
       "        text-align: right;\n",
       "    }\n",
       "</style>\n",
       "<table border=\"1\" class=\"dataframe\">\n",
       "  <thead>\n",
       "    <tr style=\"text-align: right;\">\n",
       "      <th></th>\n",
       "      <th>count</th>\n",
       "    </tr>\n",
       "  </thead>\n",
       "  <tbody>\n",
       "    <tr>\n",
       "      <th>AURORA AVE N BETWEEN N 117TH PL AND N 125TH ST</th>\n",
       "      <td>126</td>\n",
       "    </tr>\n",
       "    <tr>\n",
       "      <th>6TH AVE AND JAMES ST</th>\n",
       "      <td>112</td>\n",
       "    </tr>\n",
       "    <tr>\n",
       "      <th>RAINIER AVE S BETWEEN S BAYVIEW ST AND S MCCLELLAN ST</th>\n",
       "      <td>97</td>\n",
       "    </tr>\n",
       "    <tr>\n",
       "      <th>N NORTHGATE WAY BETWEEN MERIDIAN AVE N AND CORLISS AVE N</th>\n",
       "      <td>96</td>\n",
       "    </tr>\n",
       "    <tr>\n",
       "      <th>AURORA AVE N BETWEEN N 130TH ST AND N 135TH ST</th>\n",
       "      <td>96</td>\n",
       "    </tr>\n",
       "    <tr>\n",
       "      <th>BATTERY ST TUNNEL SB BETWEEN AURORA AVE N AND ALASKAN WY VI SB</th>\n",
       "      <td>93</td>\n",
       "    </tr>\n",
       "    <tr>\n",
       "      <th>WEST SEATTLE BR EB BETWEEN ALASKAN WY VI NB ON RP AND DELRIDGE-W SEATTLE BR EB ON RP</th>\n",
       "      <td>82</td>\n",
       "    </tr>\n",
       "  </tbody>\n",
       "</table>\n",
       "</div>"
      ],
      "text/plain": [
       "                                                    count\n",
       "AURORA AVE N BETWEEN N 117TH PL AND N 125TH ST        126\n",
       "6TH AVE AND JAMES ST                                  112\n",
       "RAINIER AVE S BETWEEN S BAYVIEW ST AND S MCCLEL...     97\n",
       "N NORTHGATE WAY BETWEEN MERIDIAN AVE N AND CORL...     96\n",
       "AURORA AVE N BETWEEN N 130TH ST AND N 135TH ST         96\n",
       "BATTERY ST TUNNEL SB BETWEEN AURORA AVE N AND A...     93\n",
       "WEST SEATTLE BR EB BETWEEN ALASKAN WY VI NB ON ...     82"
      ]
     },
     "execution_count": 15,
     "metadata": {},
     "output_type": "execute_result"
    }
   ],
   "source": [
    "most_sev = df[df['severitycode'].isin(['Fatality', 'Serious_injury', 'Injury'])]\n",
    "most_sev = most_sev['location'].value_counts().to_frame('count')\n",
    "# Select the top 7 locations; 5 seemed to few but 10 seemed too many...\n",
    "most_sev = most_sev.head(7)\n",
    "most_sev"
   ]
  },
  {
   "cell_type": "markdown",
   "metadata": {},
   "source": [
    "Let's compare the locations with the highest numbers of **severe** incidents and locations with the highest numbers of **total** incidents."
   ]
  },
  {
   "cell_type": "code",
   "execution_count": 16,
   "metadata": {},
   "outputs": [
    {
     "data": {
      "text/plain": [
       "['6TH AVE AND JAMES ST',\n",
       " 'AURORA AVE N BETWEEN N 117TH PL AND N 125TH ST',\n",
       " 'AURORA AVE N BETWEEN N 130TH ST AND N 135TH ST',\n",
       " 'BATTERY ST TUNNEL SB BETWEEN AURORA AVE N AND ALASKAN WY VI SB',\n",
       " 'N NORTHGATE WAY BETWEEN MERIDIAN AVE N AND CORLISS AVE N',\n",
       " 'RAINIER AVE S BETWEEN S BAYVIEW ST AND S MCCLELLAN ST',\n",
       " 'WEST SEATTLE BR EB BETWEEN ALASKAN WY VI NB ON RP AND DELRIDGE-W SEATTLE BR EB ON RP']"
      ]
     },
     "execution_count": 16,
     "metadata": {},
     "output_type": "execute_result"
    }
   ],
   "source": [
    "# These are the locations with the highest numbers of severe incidents\n",
    "\n",
    "mostsevlocations = list(most_sev.index)\n",
    "sorted(mostsevlocations, key=str.lower)"
   ]
  },
  {
   "cell_type": "code",
   "execution_count": 17,
   "metadata": {},
   "outputs": [
    {
     "data": {
      "text/plain": [
       "['6TH AVE AND JAMES ST',\n",
       " 'ALASKAN WY VI NB BETWEEN S ROYAL BROUGHAM WAY ON RP AND SENECA ST OFF RP',\n",
       " 'AURORA AVE N BETWEEN N 117TH PL AND N 125TH ST',\n",
       " 'AURORA AVE N BETWEEN N 130TH ST AND N 135TH ST',\n",
       " 'BATTERY ST TUNNEL NB BETWEEN ALASKAN WY VI NB AND AURORA AVE N',\n",
       " 'BATTERY ST TUNNEL SB BETWEEN AURORA AVE N AND ALASKAN WY VI SB',\n",
       " 'N NORTHGATE WAY BETWEEN MERIDIAN AVE N AND CORLISS AVE N']"
      ]
     },
     "execution_count": 17,
     "metadata": {},
     "output_type": "execute_result"
    }
   ],
   "source": [
    "# These are the locations with highest numbers of all incidents (extracted earlier)\n",
    "\n",
    "manyaccident_locations = list(locdf.index)\n",
    "sorted(manyaccident_locations, key=str.lower)"
   ]
  },
  {
   "cell_type": "markdown",
   "metadata": {},
   "source": [
    "- 5 locations appear on both lists\n",
    "- 2 locations only appear on the list of locations with most severe incidents\n",
    "- 2 other locations only appear on the list of locations with highest number of incidents\n",
    "- Looks like there is some overlap between the 2 lists\n",
    "- Either the number of all accidents or number of severe accidents could be an indicator of dangerousness\n",
    "- Caution: Locations may not be entered in a standardized manner. Using coordinates may be a better way to identify dangerous locations."
   ]
  },
  {
   "cell_type": "markdown",
   "metadata": {},
   "source": [
    "## Goal 2: identify predictors of accidents"
   ]
  },
  {
   "cell_type": "markdown",
   "metadata": {},
   "source": [
    "### Q1. What are associated with the total number of accidents?"
   ]
  },
  {
   "cell_type": "markdown",
   "metadata": {},
   "source": [
    "Now let's try to find factors associated with accidents by looking at: \n",
    "- External factors\n",
    "- Human factors\n",
    "- Characteristics of the collision site"
   ]
  },
  {
   "cell_type": "markdown",
   "metadata": {},
   "source": [
    "### External factors"
   ]
  },
  {
   "cell_type": "markdown",
   "metadata": {},
   "source": [
    "Let's take a look at `lightcond`."
   ]
  },
  {
   "cell_type": "code",
   "execution_count": 18,
   "metadata": {},
   "outputs": [
    {
     "data": {
      "image/png": "[encoded data removed]",
      "text/plain": [
       "<Figure size 432x288 with 1 Axes>"
      ]
     },
     "metadata": {
      "needs_background": "light"
     },
     "output_type": "display_data"
    }
   ],
   "source": [
    "df['lightcond'].value_counts(sort=False, dropna=False).to_frame('count').plot.bar();"
   ]
  },
  {
   "cell_type": "markdown",
   "metadata": {},
   "source": [
    "There are a lot of subcategories for `dark` conditions. Let's try combining them."
   ]
  },
  {
   "cell_type": "code",
   "execution_count": 19,
   "metadata": {},
   "outputs": [],
   "source": [
    "df['lightcond'] = df['lightcond'].replace({\n",
    "   'Dark - No Street Lights': 'Dark',\n",
    "   'Dark - Street Lights Off': 'Dark',\n",
    "   'Dark - Street Lights On': 'Dark',\n",
    "   'Dark - Unknown Lighting': 'Dark'\n",
    "})"
   ]
  },
  {
   "cell_type": "code",
   "execution_count": 20,
   "metadata": {},
   "outputs": [
    {
     "data": {
      "image/png": "[encoded data removed]",
      "text/plain": [
       "<Figure size 432x288 with 1 Axes>"
      ]
     },
     "metadata": {
      "needs_background": "light"
     },
     "output_type": "display_data"
    }
   ],
   "source": [
    "df['lightcond'].value_counts(sort=False, dropna=False).to_frame('count').plot.bar();"
   ]
  },
  {
   "cell_type": "markdown",
   "metadata": {},
   "source": [
    "Even when the subcategories of Dark are combined, Daylight still has the highest frequency."
   ]
  },
  {
   "cell_type": "markdown",
   "metadata": {},
   "source": [
    "Next, check the frequencies for `weather`"
   ]
  },
  {
   "cell_type": "code",
   "execution_count": 21,
   "metadata": {},
   "outputs": [
    {
     "data": {
      "image/png": "[encoded data removed]",
      "text/plain": [
       "<Figure size 432x288 with 1 Axes>"
      ]
     },
     "metadata": {
      "needs_background": "light"
     },
     "output_type": "display_data"
    }
   ],
   "source": [
    "df['weather'].value_counts(sort=False, dropna=False).to_frame('count').plot.bar();"
   ]
  },
  {
   "cell_type": "markdown",
   "metadata": {},
   "source": [
    "Most incidents happened in a clear weather. "
   ]
  },
  {
   "cell_type": "markdown",
   "metadata": {},
   "source": [
    "### Human factors"
   ]
  },
  {
   "cell_type": "code",
   "execution_count": 22,
   "metadata": {},
   "outputs": [
    {
     "data": {
      "image/png": "[encoded data removed]",
      "text/plain": [
       "<Figure size 432x288 with 1 Axes>"
      ]
     },
     "metadata": {
      "needs_background": "light"
     },
     "output_type": "display_data"
    },
    {
     "data": {
      "image/png": "[encoded data removed]",
      "text/plain": [
       "<Figure size 432x288 with 1 Axes>"
      ]
     },
     "metadata": {
      "needs_background": "light"
     },
     "output_type": "display_data"
    },
    {
     "data": {
      "image/png": "[encoded data removed]",
      "text/plain": [
       "<Figure size 432x288 with 1 Axes>"
      ]
     },
     "metadata": {
      "needs_background": "light"
     },
     "output_type": "display_data"
    },
    {
     "data": {
      "image/png": "[encoded data removed]",
      "text/plain": [
       "<Figure size 432x288 with 1 Axes>"
      ]
     },
     "metadata": {
      "needs_background": "light"
     },
     "output_type": "display_data"
    }
   ],
   "source": [
    "human_factors = ['inattentionind', 'underinfl', 'pedrownotgrnt', 'speeding']\n",
    "for factor in human_factors:\n",
    "    tempdf = df[factor].value_counts(sort=False, dropna=False).to_frame()\n",
    "    tempdf.plot.bar()"
   ]
  },
  {
   "cell_type": "markdown",
   "metadata": {},
   "source": [
    "- As you can see, there are a lot of missing data in these columns; something to keep in mind for doing analyses later.\n",
    "- There are fewer missing values for `underinfl` (whether the driver was under the influence) but there is an inconsistency in values; some indicdents are recorded using `0`s and `1`s whereas some are recorded using `n`s and `y`s. \n",
    "- Assuming that `0`s = `n`s and `1`s = `y`s, in most cases, drivers were NOT under the influence."
   ]
  },
  {
   "cell_type": "markdown",
   "metadata": {},
   "source": [
    "### Characteristics of the collision site"
   ]
  },
  {
   "cell_type": "code",
   "execution_count": 23,
   "metadata": {},
   "outputs": [
    {
     "data": {
      "image/png": "[encoded data removed]",
      "text/plain": [
       "<Figure size 432x288 with 1 Axes>"
      ]
     },
     "metadata": {
      "needs_background": "light"
     },
     "output_type": "display_data"
    },
    {
     "data": {
      "image/png": "[encoded data removed]",
      "text/plain": [
       "<Figure size 432x288 with 1 Axes>"
      ]
     },
     "metadata": {
      "needs_background": "light"
     },
     "output_type": "display_data"
    },
    {
     "data": {
      "image/png": "[encoded data removed]",
      "text/plain": [
       "<Figure size 432x288 with 1 Axes>"
      ]
     },
     "metadata": {
      "needs_background": "light"
     },
     "output_type": "display_data"
    }
   ],
   "source": [
    "site_characteristics = ['addrtype', 'junctiontype', 'roadcond']\n",
    "\n",
    "for index, column in enumerate(site_characteristics):\n",
    "    tempdf = df[column].value_counts(sort=False, dropna=False).to_frame()\n",
    "    tempdf.plot.bar()\n",
    "    plt.title(f\"Figure {index + 1} - {column}\")"
   ]
  },
  {
   "cell_type": "markdown",
   "metadata": {},
   "source": [
    "More than half of the incidents happened:\n",
    "- mid-block rather than an intersection\n",
    "- on a dry road"
   ]
  },
  {
   "cell_type": "markdown",
   "metadata": {},
   "source": [
    "So far, it was found that many incidents happened\n",
    "- in daylight\n",
    "- in a clear weather\n",
    "- mid-block\n",
    "- on a dry road\n",
    "\n",
    "Given these findings, can darkness and bad weather be ruled out as predictors of accidents?? To answer this question, additional steps need to be taken includding the following:\n",
    "- Obatin the volume of traffic in each location on each day (because there is more traffic when the weather is nice or during the day)\n",
    "- Divide the number of cars that got into accidents by the total traffic volume in each location on each day"
   ]
  },
  {
   "cell_type": "markdown",
   "metadata": {},
   "source": [
    "### Q2. What are associated with severe accidents?"
   ]
  },
  {
   "cell_type": "markdown",
   "metadata": {},
   "source": [
    "### Correlations among numeric variables\n",
    "\n",
    "First, check what variables are correlated with injuries, serious injuries, and fatalities."
   ]
  },
  {
   "cell_type": "code",
   "execution_count": 24,
   "metadata": {},
   "outputs": [
    {
     "data": {
      "text/html": [
       "<style  type=\"text/css\" >\n",
       "    #T_694a4410_bf51_11ea_a716_acde48001122row0_col0 {\n",
       "            background-color:  #023858;\n",
       "            color:  #f1f1f1;\n",
       "        }    #T_694a4410_bf51_11ea_a716_acde48001122row0_col1 {\n",
       "            background-color:  #e8e4f0;\n",
       "            color:  #000000;\n",
       "        }    #T_694a4410_bf51_11ea_a716_acde48001122row0_col2 {\n",
       "            background-color:  #ede7f2;\n",
       "            color:  #000000;\n",
       "        }    #T_694a4410_bf51_11ea_a716_acde48001122row0_col3 {\n",
       "            background-color:  #3b92c1;\n",
       "            color:  #000000;\n",
       "        }    #T_694a4410_bf51_11ea_a716_acde48001122row0_col4 {\n",
       "            background-color:  #c9cee4;\n",
       "            color:  #000000;\n",
       "        }    #T_694a4410_bf51_11ea_a716_acde48001122row0_col5 {\n",
       "            background-color:  #eee9f3;\n",
       "            color:  #000000;\n",
       "        }    #T_694a4410_bf51_11ea_a716_acde48001122row0_col6 {\n",
       "            background-color:  #f7f0f7;\n",
       "            color:  #000000;\n",
       "        }    #T_694a4410_bf51_11ea_a716_acde48001122row1_col0 {\n",
       "            background-color:  #fcf4fa;\n",
       "            color:  #000000;\n",
       "        }    #T_694a4410_bf51_11ea_a716_acde48001122row1_col1 {\n",
       "            background-color:  #023858;\n",
       "            color:  #f1f1f1;\n",
       "        }    #T_694a4410_bf51_11ea_a716_acde48001122row1_col2 {\n",
       "            background-color:  #eee8f3;\n",
       "            color:  #000000;\n",
       "        }    #T_694a4410_bf51_11ea_a716_acde48001122row1_col3 {\n",
       "            background-color:  #fff7fb;\n",
       "            color:  #000000;\n",
       "        }    #T_694a4410_bf51_11ea_a716_acde48001122row1_col4 {\n",
       "            background-color:  #efe9f3;\n",
       "            color:  #000000;\n",
       "        }    #T_694a4410_bf51_11ea_a716_acde48001122row1_col5 {\n",
       "            background-color:  #eae6f1;\n",
       "            color:  #000000;\n",
       "        }    #T_694a4410_bf51_11ea_a716_acde48001122row1_col6 {\n",
       "            background-color:  #f2ecf5;\n",
       "            color:  #000000;\n",
       "        }    #T_694a4410_bf51_11ea_a716_acde48001122row2_col0 {\n",
       "            background-color:  #fff7fb;\n",
       "            color:  #000000;\n",
       "        }    #T_694a4410_bf51_11ea_a716_acde48001122row2_col1 {\n",
       "            background-color:  #ede8f3;\n",
       "            color:  #000000;\n",
       "        }    #T_694a4410_bf51_11ea_a716_acde48001122row2_col2 {\n",
       "            background-color:  #023858;\n",
       "            color:  #f1f1f1;\n",
       "        }    #T_694a4410_bf51_11ea_a716_acde48001122row2_col3 {\n",
       "            background-color:  #fff7fb;\n",
       "            color:  #000000;\n",
       "        }    #T_694a4410_bf51_11ea_a716_acde48001122row2_col4 {\n",
       "            background-color:  #f6eff7;\n",
       "            color:  #000000;\n",
       "        }    #T_694a4410_bf51_11ea_a716_acde48001122row2_col5 {\n",
       "            background-color:  #f5eff6;\n",
       "            color:  #000000;\n",
       "        }    #T_694a4410_bf51_11ea_a716_acde48001122row2_col6 {\n",
       "            background-color:  #fcf4fa;\n",
       "            color:  #000000;\n",
       "        }    #T_694a4410_bf51_11ea_a716_acde48001122row3_col0 {\n",
       "            background-color:  #569dc8;\n",
       "            color:  #000000;\n",
       "        }    #T_694a4410_bf51_11ea_a716_acde48001122row3_col1 {\n",
       "            background-color:  #fff7fb;\n",
       "            color:  #000000;\n",
       "        }    #T_694a4410_bf51_11ea_a716_acde48001122row3_col2 {\n",
       "            background-color:  #fff7fb;\n",
       "            color:  #000000;\n",
       "        }    #T_694a4410_bf51_11ea_a716_acde48001122row3_col3 {\n",
       "            background-color:  #023858;\n",
       "            color:  #f1f1f1;\n",
       "        }    #T_694a4410_bf51_11ea_a716_acde48001122row3_col4 {\n",
       "            background-color:  #f3edf5;\n",
       "            color:  #000000;\n",
       "        }    #T_694a4410_bf51_11ea_a716_acde48001122row3_col5 {\n",
       "            background-color:  #fff7fb;\n",
       "            color:  #000000;\n",
       "        }    #T_694a4410_bf51_11ea_a716_acde48001122row3_col6 {\n",
       "            background-color:  #fff7fb;\n",
       "            color:  #000000;\n",
       "        }    #T_694a4410_bf51_11ea_a716_acde48001122row4_col0 {\n",
       "            background-color:  #b7c5df;\n",
       "            color:  #000000;\n",
       "        }    #T_694a4410_bf51_11ea_a716_acde48001122row4_col1 {\n",
       "            background-color:  #c6cce3;\n",
       "            color:  #000000;\n",
       "        }    #T_694a4410_bf51_11ea_a716_acde48001122row4_col2 {\n",
       "            background-color:  #d3d4e7;\n",
       "            color:  #000000;\n",
       "        }    #T_694a4410_bf51_11ea_a716_acde48001122row4_col3 {\n",
       "            background-color:  #ced0e6;\n",
       "            color:  #000000;\n",
       "        }    #T_694a4410_bf51_11ea_a716_acde48001122row4_col4 {\n",
       "            background-color:  #023858;\n",
       "            color:  #f1f1f1;\n",
       "        }    #T_694a4410_bf51_11ea_a716_acde48001122row4_col5 {\n",
       "            background-color:  #c5cce3;\n",
       "            color:  #000000;\n",
       "        }    #T_694a4410_bf51_11ea_a716_acde48001122row4_col6 {\n",
       "            background-color:  #f4edf6;\n",
       "            color:  #000000;\n",
       "        }    #T_694a4410_bf51_11ea_a716_acde48001122row5_col0 {\n",
       "            background-color:  #eee8f3;\n",
       "            color:  #000000;\n",
       "        }    #T_694a4410_bf51_11ea_a716_acde48001122row5_col1 {\n",
       "            background-color:  #d1d2e6;\n",
       "            color:  #000000;\n",
       "        }    #T_694a4410_bf51_11ea_a716_acde48001122row5_col2 {\n",
       "            background-color:  #dfddec;\n",
       "            color:  #000000;\n",
       "        }    #T_694a4410_bf51_11ea_a716_acde48001122row5_col3 {\n",
       "            background-color:  #ebe6f2;\n",
       "            color:  #000000;\n",
       "        }    #T_694a4410_bf51_11ea_a716_acde48001122row5_col4 {\n",
       "            background-color:  #d5d5e8;\n",
       "            color:  #000000;\n",
       "        }    #T_694a4410_bf51_11ea_a716_acde48001122row5_col5 {\n",
       "            background-color:  #023858;\n",
       "            color:  #f1f1f1;\n",
       "        }    #T_694a4410_bf51_11ea_a716_acde48001122row5_col6 {\n",
       "            background-color:  #e0dded;\n",
       "            color:  #000000;\n",
       "        }    #T_694a4410_bf51_11ea_a716_acde48001122row6_col0 {\n",
       "            background-color:  #f7f0f7;\n",
       "            color:  #000000;\n",
       "        }    #T_694a4410_bf51_11ea_a716_acde48001122row6_col1 {\n",
       "            background-color:  #dcdaeb;\n",
       "            color:  #000000;\n",
       "        }    #T_694a4410_bf51_11ea_a716_acde48001122row6_col2 {\n",
       "            background-color:  #e9e5f1;\n",
       "            color:  #000000;\n",
       "        }    #T_694a4410_bf51_11ea_a716_acde48001122row6_col3 {\n",
       "            background-color:  #ede7f2;\n",
       "            color:  #000000;\n",
       "        }    #T_694a4410_bf51_11ea_a716_acde48001122row6_col4 {\n",
       "            background-color:  #fff7fb;\n",
       "            color:  #000000;\n",
       "        }    #T_694a4410_bf51_11ea_a716_acde48001122row6_col5 {\n",
       "            background-color:  #e0deed;\n",
       "            color:  #000000;\n",
       "        }    #T_694a4410_bf51_11ea_a716_acde48001122row6_col6 {\n",
       "            background-color:  #023858;\n",
       "            color:  #f1f1f1;\n",
       "        }</style><table id=\"T_694a4410_bf51_11ea_a716_acde48001122\" ><thead>    <tr>        <th class=\"blank level0\" ></th>        <th class=\"col_heading level0 col0\" >personcount</th>        <th class=\"col_heading level0 col1\" >pedcount</th>        <th class=\"col_heading level0 col2\" >pedcylcount</th>        <th class=\"col_heading level0 col3\" >vehcount</th>        <th class=\"col_heading level0 col4\" >injuries</th>        <th class=\"col_heading level0 col5\" >seriousinjuries</th>        <th class=\"col_heading level0 col6\" >fatalities</th>    </tr></thead><tbody>\n",
       "                <tr>\n",
       "                        <th id=\"T_694a4410_bf51_11ea_a716_acde48001122level0_row0\" class=\"row_heading level0 row0\" >personcount</th>\n",
       "                        <td id=\"T_694a4410_bf51_11ea_a716_acde48001122row0_col0\" class=\"data row0 col0\" >1.0</td>\n",
       "                        <td id=\"T_694a4410_bf51_11ea_a716_acde48001122row0_col1\" class=\"data row0 col1\" >0.012</td>\n",
       "                        <td id=\"T_694a4410_bf51_11ea_a716_acde48001122row0_col2\" class=\"data row0 col2\" >-0.0093</td>\n",
       "                        <td id=\"T_694a4410_bf51_11ea_a716_acde48001122row0_col3\" class=\"data row0 col3\" >0.56</td>\n",
       "                        <td id=\"T_694a4410_bf51_11ea_a716_acde48001122row0_col4\" class=\"data row0 col4\" >0.32</td>\n",
       "                        <td id=\"T_694a4410_bf51_11ea_a716_acde48001122row0_col5\" class=\"data row0 col5\" >0.11</td>\n",
       "                        <td id=\"T_694a4410_bf51_11ea_a716_acde48001122row0_col6\" class=\"data row0 col6\" >0.046</td>\n",
       "            </tr>\n",
       "            <tr>\n",
       "                        <th id=\"T_694a4410_bf51_11ea_a716_acde48001122level0_row1\" class=\"row_heading level0 row1\" >pedcount</th>\n",
       "                        <td id=\"T_694a4410_bf51_11ea_a716_acde48001122row1_col0\" class=\"data row1 col0\" >0.012</td>\n",
       "                        <td id=\"T_694a4410_bf51_11ea_a716_acde48001122row1_col1\" class=\"data row1 col1\" >1.0</td>\n",
       "                        <td id=\"T_694a4410_bf51_11ea_a716_acde48001122row1_col2\" class=\"data row1 col2\" >-0.016</td>\n",
       "                        <td id=\"T_694a4410_bf51_11ea_a716_acde48001122row1_col3\" class=\"data row1 col3\" >-0.15</td>\n",
       "                        <td id=\"T_694a4410_bf51_11ea_a716_acde48001122row1_col4\" class=\"data row1 col4\" >0.17</td>\n",
       "                        <td id=\"T_694a4410_bf51_11ea_a716_acde48001122row1_col5\" class=\"data row1 col5\" >0.13</td>\n",
       "                        <td id=\"T_694a4410_bf51_11ea_a716_acde48001122row1_col6\" class=\"data row1 col6\" >0.073</td>\n",
       "            </tr>\n",
       "            <tr>\n",
       "                        <th id=\"T_694a4410_bf51_11ea_a716_acde48001122level0_row2\" class=\"row_heading level0 row2\" >pedcylcount</th>\n",
       "                        <td id=\"T_694a4410_bf51_11ea_a716_acde48001122row2_col0\" class=\"data row2 col0\" >-0.0093</td>\n",
       "                        <td id=\"T_694a4410_bf51_11ea_a716_acde48001122row2_col1\" class=\"data row2 col1\" >-0.016</td>\n",
       "                        <td id=\"T_694a4410_bf51_11ea_a716_acde48001122row2_col2\" class=\"data row2 col2\" >1.0</td>\n",
       "                        <td id=\"T_694a4410_bf51_11ea_a716_acde48001122row2_col3\" class=\"data row2 col3\" >-0.15</td>\n",
       "                        <td id=\"T_694a4410_bf51_11ea_a716_acde48001122row2_col4\" class=\"data row2 col4\" >0.12</td>\n",
       "                        <td id=\"T_694a4410_bf51_11ea_a716_acde48001122row2_col5\" class=\"data row2 col5\" >0.062</td>\n",
       "                        <td id=\"T_694a4410_bf51_11ea_a716_acde48001122row2_col6\" class=\"data row2 col6\" >0.011</td>\n",
       "            </tr>\n",
       "            <tr>\n",
       "                        <th id=\"T_694a4410_bf51_11ea_a716_acde48001122level0_row3\" class=\"row_heading level0 row3\" >vehcount</th>\n",
       "                        <td id=\"T_694a4410_bf51_11ea_a716_acde48001122row3_col0\" class=\"data row3 col0\" >0.56</td>\n",
       "                        <td id=\"T_694a4410_bf51_11ea_a716_acde48001122row3_col1\" class=\"data row3 col1\" >-0.15</td>\n",
       "                        <td id=\"T_694a4410_bf51_11ea_a716_acde48001122row3_col2\" class=\"data row3 col2\" >-0.15</td>\n",
       "                        <td id=\"T_694a4410_bf51_11ea_a716_acde48001122row3_col3\" class=\"data row3 col3\" >1.0</td>\n",
       "                        <td id=\"T_694a4410_bf51_11ea_a716_acde48001122row3_col4\" class=\"data row3 col4\" >0.14</td>\n",
       "                        <td id=\"T_694a4410_bf51_11ea_a716_acde48001122row3_col5\" class=\"data row3 col5\" >-0.0028</td>\n",
       "                        <td id=\"T_694a4410_bf51_11ea_a716_acde48001122row3_col6\" class=\"data row3 col6\" >-0.01</td>\n",
       "            </tr>\n",
       "            <tr>\n",
       "                        <th id=\"T_694a4410_bf51_11ea_a716_acde48001122level0_row4\" class=\"row_heading level0 row4\" >injuries</th>\n",
       "                        <td id=\"T_694a4410_bf51_11ea_a716_acde48001122row4_col0\" class=\"data row4 col0\" >0.32</td>\n",
       "                        <td id=\"T_694a4410_bf51_11ea_a716_acde48001122row4_col1\" class=\"data row4 col1\" >0.17</td>\n",
       "                        <td id=\"T_694a4410_bf51_11ea_a716_acde48001122row4_col2\" class=\"data row4 col2\" >0.12</td>\n",
       "                        <td id=\"T_694a4410_bf51_11ea_a716_acde48001122row4_col3\" class=\"data row4 col3\" >0.14</td>\n",
       "                        <td id=\"T_694a4410_bf51_11ea_a716_acde48001122row4_col4\" class=\"data row4 col4\" >1.0</td>\n",
       "                        <td id=\"T_694a4410_bf51_11ea_a716_acde48001122row4_col5\" class=\"data row4 col5\" >0.28</td>\n",
       "                        <td id=\"T_694a4410_bf51_11ea_a716_acde48001122row4_col6\" class=\"data row4 col6\" >0.067</td>\n",
       "            </tr>\n",
       "            <tr>\n",
       "                        <th id=\"T_694a4410_bf51_11ea_a716_acde48001122level0_row5\" class=\"row_heading level0 row5\" >seriousinjuries</th>\n",
       "                        <td id=\"T_694a4410_bf51_11ea_a716_acde48001122row5_col0\" class=\"data row5 col0\" >0.11</td>\n",
       "                        <td id=\"T_694a4410_bf51_11ea_a716_acde48001122row5_col1\" class=\"data row5 col1\" >0.13</td>\n",
       "                        <td id=\"T_694a4410_bf51_11ea_a716_acde48001122row5_col2\" class=\"data row5 col2\" >0.062</td>\n",
       "                        <td id=\"T_694a4410_bf51_11ea_a716_acde48001122row5_col3\" class=\"data row5 col3\" >-0.0028</td>\n",
       "                        <td id=\"T_694a4410_bf51_11ea_a716_acde48001122row5_col4\" class=\"data row5 col4\" >0.28</td>\n",
       "                        <td id=\"T_694a4410_bf51_11ea_a716_acde48001122row5_col5\" class=\"data row5 col5\" >1.0</td>\n",
       "                        <td id=\"T_694a4410_bf51_11ea_a716_acde48001122row5_col6\" class=\"data row5 col6\" >0.17</td>\n",
       "            </tr>\n",
       "            <tr>\n",
       "                        <th id=\"T_694a4410_bf51_11ea_a716_acde48001122level0_row6\" class=\"row_heading level0 row6\" >fatalities</th>\n",
       "                        <td id=\"T_694a4410_bf51_11ea_a716_acde48001122row6_col0\" class=\"data row6 col0\" >0.046</td>\n",
       "                        <td id=\"T_694a4410_bf51_11ea_a716_acde48001122row6_col1\" class=\"data row6 col1\" >0.073</td>\n",
       "                        <td id=\"T_694a4410_bf51_11ea_a716_acde48001122row6_col2\" class=\"data row6 col2\" >0.011</td>\n",
       "                        <td id=\"T_694a4410_bf51_11ea_a716_acde48001122row6_col3\" class=\"data row6 col3\" >-0.01</td>\n",
       "                        <td id=\"T_694a4410_bf51_11ea_a716_acde48001122row6_col4\" class=\"data row6 col4\" >0.067</td>\n",
       "                        <td id=\"T_694a4410_bf51_11ea_a716_acde48001122row6_col5\" class=\"data row6 col5\" >0.17</td>\n",
       "                        <td id=\"T_694a4410_bf51_11ea_a716_acde48001122row6_col6\" class=\"data row6 col6\" >1.0</td>\n",
       "            </tr>\n",
       "    </tbody></table>"
      ],
      "text/plain": [
       "<pandas.io.formats.style.Styler at 0x129135910>"
      ]
     },
     "execution_count": 24,
     "metadata": {},
     "output_type": "execute_result"
    }
   ],
   "source": [
    "df[num_columns].corr(method=\"pearson\").style.format(\"{:.2}\").background_gradient()"
   ]
  },
  {
   "cell_type": "markdown",
   "metadata": {},
   "source": [
    "- The number of people (`personcount`), pedestraians(`pedcount`), cyclists (`pedcylcount`), and vehicles (`vehcount`) involved show positive correlations with `injuries` greater than 0.1. \n",
    "- This finding suggests that, understandably, the more people are involved in the accident, the more injuries are involved as well (as opposed to property damage only).\n",
    "- However, the correlations between injuries and the number of pedestraians(`pedcount`), cyclists (`pedcylcount`), and vehicles (`vehcount`) are fairly low."
   ]
  },
  {
   "cell_type": "markdown",
   "metadata": {},
   "source": [
    "### Does the description of each accident provide information about factors associated with severe accidents?"
   ]
  },
  {
   "cell_type": "markdown",
   "metadata": {},
   "source": [
    "The `st_colcode` column provides information about what each vehicle or person was doing when the accident happened. These descriptions may give us some idea about how to prevent accidents. First, let's look at the descriptions for the overall dataset."
   ]
  },
  {
   "cell_type": "code",
   "execution_count": 25,
   "metadata": {},
   "outputs": [
    {
     "data": {
      "text/plain": [
       "['Entering at angle',\n",
       " 'Fixed object',\n",
       " 'From opposite direction - one left turn - one straight',\n",
       " 'From same direction - both going straight - both moving - rear-end',\n",
       " 'From same direction - both going straight - both moving - sideswipe',\n",
       " 'From same direction - both going straight - one stopped - rear-end',\n",
       " 'One parked--one moving']"
      ]
     },
     "execution_count": 25,
     "metadata": {},
     "output_type": "execute_result"
    }
   ],
   "source": [
    "# Because there are 38 unique values for this column, select the top 7 for now\n",
    "commondescriptions = df['st_coldesc'].value_counts()[:7]\n",
    "commondescriptions = list(commondescriptions.index)\n",
    "sorted(commondescriptions, key=str.lower)"
   ]
  },
  {
   "cell_type": "markdown",
   "metadata": {},
   "source": [
    "Now let's take a look at the common categories for this column `st_coldesc` in the locations that had the highest number of severe accidents identified earlier."
   ]
  },
  {
   "cell_type": "code",
   "execution_count": 26,
   "metadata": {},
   "outputs": [
    {
     "data": {
      "text/plain": [
       "['Entering at angle',\n",
       " 'Fixed object',\n",
       " 'From opposite direction - one left turn - one straight',\n",
       " 'From same direction - both going straight - both moving - rear-end',\n",
       " 'From same direction - both going straight - both moving - sideswipe',\n",
       " 'From same direction - both going straight - one stopped - rear-end',\n",
       " 'One car leaving driveway access']"
      ]
     },
     "execution_count": 26,
     "metadata": {},
     "output_type": "execute_result"
    }
   ],
   "source": [
    "mostsevlocations = list(most_sev.index)\n",
    "mostsev_df = df[df['location'].isin(most_sev.index)]\n",
    "# Again just focus on the top 7 common categories\n",
    "desciptions = mostsev_df['st_coldesc'].value_counts().head(7)\n",
    "mostsevdescriptions = list(desciptions.index)\n",
    "sorted(mostsevdescriptions, key=str.lower)"
   ]
  },
  {
   "cell_type": "markdown",
   "metadata": {},
   "source": [
    "- Comparing the two lists, most categories are the same, except for the last category on each list\n",
    "- A vehicle hitting another parked vehicle was the 7th most common category for all the locations\n",
    "- One car leaving driveway access was the 7th most common category for the locations with the highest numbers of severe accidents\n",
    "- Now take a look at the distribution of these categories among the 7 locations"
   ]
  },
  {
   "cell_type": "markdown",
   "metadata": {},
   "source": [
    "**Table 1**"
   ]
  },
  {
   "cell_type": "code",
   "execution_count": 27,
   "metadata": {},
   "outputs": [
    {
     "data": {
      "text/html": [
       "<div>\n",
       "<style scoped>\n",
       "    .dataframe tbody tr th:only-of-type {\n",
       "        vertical-align: middle;\n",
       "    }\n",
       "\n",
       "    .dataframe tbody tr th {\n",
       "        vertical-align: top;\n",
       "    }\n",
       "\n",
       "    .dataframe thead th {\n",
       "        text-align: right;\n",
       "    }\n",
       "</style>\n",
       "<table border=\"1\" class=\"dataframe\">\n",
       "  <thead>\n",
       "    <tr style=\"text-align: right;\">\n",
       "      <th>st_coldesc</th>\n",
       "      <th>Entering at angle</th>\n",
       "      <th>Fixed object</th>\n",
       "      <th>From opposite direction - one left turn - one straight</th>\n",
       "      <th>From same direction - both going straight - both moving - rear-end</th>\n",
       "      <th>From same direction - both going straight - both moving - sideswipe</th>\n",
       "      <th>From same direction - both going straight - one stopped - rear-end</th>\n",
       "      <th>One car leaving driveway access</th>\n",
       "    </tr>\n",
       "    <tr>\n",
       "      <th>location</th>\n",
       "      <th></th>\n",
       "      <th></th>\n",
       "      <th></th>\n",
       "      <th></th>\n",
       "      <th></th>\n",
       "      <th></th>\n",
       "      <th></th>\n",
       "    </tr>\n",
       "  </thead>\n",
       "  <tbody>\n",
       "    <tr>\n",
       "      <th>6TH AVE AND JAMES ST</th>\n",
       "      <td>59</td>\n",
       "      <td>2</td>\n",
       "      <td>138</td>\n",
       "      <td>1</td>\n",
       "      <td>4</td>\n",
       "      <td>8</td>\n",
       "      <td>0</td>\n",
       "    </tr>\n",
       "    <tr>\n",
       "      <th>AURORA AVE N BETWEEN N 117TH PL AND N 125TH ST</th>\n",
       "      <td>9</td>\n",
       "      <td>14</td>\n",
       "      <td>34</td>\n",
       "      <td>29</td>\n",
       "      <td>20</td>\n",
       "      <td>68</td>\n",
       "      <td>8</td>\n",
       "    </tr>\n",
       "    <tr>\n",
       "      <th>AURORA AVE N BETWEEN N 130TH ST AND N 135TH ST</th>\n",
       "      <td>41</td>\n",
       "      <td>8</td>\n",
       "      <td>11</td>\n",
       "      <td>8</td>\n",
       "      <td>19</td>\n",
       "      <td>82</td>\n",
       "      <td>26</td>\n",
       "    </tr>\n",
       "    <tr>\n",
       "      <th>BATTERY ST TUNNEL SB BETWEEN AURORA AVE N AND ALASKAN WY VI SB</th>\n",
       "      <td>0</td>\n",
       "      <td>188</td>\n",
       "      <td>0</td>\n",
       "      <td>18</td>\n",
       "      <td>15</td>\n",
       "      <td>28</td>\n",
       "      <td>0</td>\n",
       "    </tr>\n",
       "    <tr>\n",
       "      <th>N NORTHGATE WAY BETWEEN MERIDIAN AVE N AND CORLISS AVE N</th>\n",
       "      <td>43</td>\n",
       "      <td>3</td>\n",
       "      <td>11</td>\n",
       "      <td>13</td>\n",
       "      <td>26</td>\n",
       "      <td>79</td>\n",
       "      <td>42</td>\n",
       "    </tr>\n",
       "    <tr>\n",
       "      <th>RAINIER AVE S BETWEEN S BAYVIEW ST AND S MCCLELLAN ST</th>\n",
       "      <td>27</td>\n",
       "      <td>12</td>\n",
       "      <td>15</td>\n",
       "      <td>22</td>\n",
       "      <td>46</td>\n",
       "      <td>51</td>\n",
       "      <td>13</td>\n",
       "    </tr>\n",
       "    <tr>\n",
       "      <th>WEST SEATTLE BR EB BETWEEN ALASKAN WY VI NB ON RP AND DELRIDGE-W SEATTLE BR EB ON RP</th>\n",
       "      <td>1</td>\n",
       "      <td>32</td>\n",
       "      <td>0</td>\n",
       "      <td>54</td>\n",
       "      <td>52</td>\n",
       "      <td>58</td>\n",
       "      <td>0</td>\n",
       "    </tr>\n",
       "  </tbody>\n",
       "</table>\n",
       "</div>"
      ],
      "text/plain": [
       "st_coldesc                                          Entering at angle  \\\n",
       "location                                                                \n",
       "6TH AVE AND JAMES ST                                               59   \n",
       "AURORA AVE N BETWEEN N 117TH PL AND N 125TH ST                      9   \n",
       "AURORA AVE N BETWEEN N 130TH ST AND N 135TH ST                     41   \n",
       "BATTERY ST TUNNEL SB BETWEEN AURORA AVE N AND A...                  0   \n",
       "N NORTHGATE WAY BETWEEN MERIDIAN AVE N AND CORL...                 43   \n",
       "RAINIER AVE S BETWEEN S BAYVIEW ST AND S MCCLEL...                 27   \n",
       "WEST SEATTLE BR EB BETWEEN ALASKAN WY VI NB ON ...                  1   \n",
       "\n",
       "st_coldesc                                          Fixed object  \\\n",
       "location                                                           \n",
       "6TH AVE AND JAMES ST                                           2   \n",
       "AURORA AVE N BETWEEN N 117TH PL AND N 125TH ST                14   \n",
       "AURORA AVE N BETWEEN N 130TH ST AND N 135TH ST                 8   \n",
       "BATTERY ST TUNNEL SB BETWEEN AURORA AVE N AND A...           188   \n",
       "N NORTHGATE WAY BETWEEN MERIDIAN AVE N AND CORL...             3   \n",
       "RAINIER AVE S BETWEEN S BAYVIEW ST AND S MCCLEL...            12   \n",
       "WEST SEATTLE BR EB BETWEEN ALASKAN WY VI NB ON ...            32   \n",
       "\n",
       "st_coldesc                                          From opposite direction - one left turn - one straight  \\\n",
       "location                                                                                                     \n",
       "6TH AVE AND JAMES ST                                                                              138        \n",
       "AURORA AVE N BETWEEN N 117TH PL AND N 125TH ST                                                     34        \n",
       "AURORA AVE N BETWEEN N 130TH ST AND N 135TH ST                                                     11        \n",
       "BATTERY ST TUNNEL SB BETWEEN AURORA AVE N AND A...                                                  0        \n",
       "N NORTHGATE WAY BETWEEN MERIDIAN AVE N AND CORL...                                                 11        \n",
       "RAINIER AVE S BETWEEN S BAYVIEW ST AND S MCCLEL...                                                 15        \n",
       "WEST SEATTLE BR EB BETWEEN ALASKAN WY VI NB ON ...                                                  0        \n",
       "\n",
       "st_coldesc                                          From same direction - both going straight - both moving - rear-end  \\\n",
       "location                                                                                                                 \n",
       "6TH AVE AND JAMES ST                                                                                1                    \n",
       "AURORA AVE N BETWEEN N 117TH PL AND N 125TH ST                                                     29                    \n",
       "AURORA AVE N BETWEEN N 130TH ST AND N 135TH ST                                                      8                    \n",
       "BATTERY ST TUNNEL SB BETWEEN AURORA AVE N AND A...                                                 18                    \n",
       "N NORTHGATE WAY BETWEEN MERIDIAN AVE N AND CORL...                                                 13                    \n",
       "RAINIER AVE S BETWEEN S BAYVIEW ST AND S MCCLEL...                                                 22                    \n",
       "WEST SEATTLE BR EB BETWEEN ALASKAN WY VI NB ON ...                                                 54                    \n",
       "\n",
       "st_coldesc                                          From same direction - both going straight - both moving - sideswipe  \\\n",
       "location                                                                                                                  \n",
       "6TH AVE AND JAMES ST                                                                                4                     \n",
       "AURORA AVE N BETWEEN N 117TH PL AND N 125TH ST                                                     20                     \n",
       "AURORA AVE N BETWEEN N 130TH ST AND N 135TH ST                                                     19                     \n",
       "BATTERY ST TUNNEL SB BETWEEN AURORA AVE N AND A...                                                 15                     \n",
       "N NORTHGATE WAY BETWEEN MERIDIAN AVE N AND CORL...                                                 26                     \n",
       "RAINIER AVE S BETWEEN S BAYVIEW ST AND S MCCLEL...                                                 46                     \n",
       "WEST SEATTLE BR EB BETWEEN ALASKAN WY VI NB ON ...                                                 52                     \n",
       "\n",
       "st_coldesc                                          From same direction - both going straight - one stopped - rear-end  \\\n",
       "location                                                                                                                 \n",
       "6TH AVE AND JAMES ST                                                                                8                    \n",
       "AURORA AVE N BETWEEN N 117TH PL AND N 125TH ST                                                     68                    \n",
       "AURORA AVE N BETWEEN N 130TH ST AND N 135TH ST                                                     82                    \n",
       "BATTERY ST TUNNEL SB BETWEEN AURORA AVE N AND A...                                                 28                    \n",
       "N NORTHGATE WAY BETWEEN MERIDIAN AVE N AND CORL...                                                 79                    \n",
       "RAINIER AVE S BETWEEN S BAYVIEW ST AND S MCCLEL...                                                 51                    \n",
       "WEST SEATTLE BR EB BETWEEN ALASKAN WY VI NB ON ...                                                 58                    \n",
       "\n",
       "st_coldesc                                          One car leaving driveway access  \n",
       "location                                                                             \n",
       "6TH AVE AND JAMES ST                                                              0  \n",
       "AURORA AVE N BETWEEN N 117TH PL AND N 125TH ST                                    8  \n",
       "AURORA AVE N BETWEEN N 130TH ST AND N 135TH ST                                   26  \n",
       "BATTERY ST TUNNEL SB BETWEEN AURORA AVE N AND A...                                0  \n",
       "N NORTHGATE WAY BETWEEN MERIDIAN AVE N AND CORL...                               42  \n",
       "RAINIER AVE S BETWEEN S BAYVIEW ST AND S MCCLEL...                               13  \n",
       "WEST SEATTLE BR EB BETWEEN ALASKAN WY VI NB ON ...                                0  "
      ]
     },
     "execution_count": 27,
     "metadata": {},
     "output_type": "execute_result"
    }
   ],
   "source": [
    "mostsevdescript_df = mostsev_df[mostsev_df.st_coldesc.isin(mostsevdescriptions)]\n",
    "pd.crosstab(mostsevdescript_df['location'], [mostsevdescript_df['st_coldesc']])"
   ]
  },
  {
   "cell_type": "markdown",
   "metadata": {},
   "source": [
    "- 'One car leaving driveway access' was more common at N NORTHGATE WAY BETWEEN MERIDIAN AVE N AND CORLISS AVE N than other locations\n",
    "- 'Fixed object' was most common at BATTERY ST TUNNEL SB BETWEEN AURORA AVE N AND ALASKAN WY VI SB\n",
    "- At this location, 'Fixed object' was also more common than other descriptions. What was the object that was getting hit by so many vehicles? Was it related to construction?\n",
    "- 'From opposite direction - one left turn - one straight' was most commonly seen at 6TH AVE AND JAMES ST among the 7 locations"
   ]
  },
  {
   "cell_type": "markdown",
   "metadata": {},
   "source": [
    "### Can we predict severity from junction type?"
   ]
  },
  {
   "cell_type": "code",
   "execution_count": 28,
   "metadata": {},
   "outputs": [
    {
     "data": {
      "text/html": [
       "<div>\n",
       "<style scoped>\n",
       "    .dataframe tbody tr th:only-of-type {\n",
       "        vertical-align: middle;\n",
       "    }\n",
       "\n",
       "    .dataframe tbody tr th {\n",
       "        vertical-align: top;\n",
       "    }\n",
       "\n",
       "    .dataframe thead th {\n",
       "        text-align: right;\n",
       "    }\n",
       "</style>\n",
       "<table border=\"1\" class=\"dataframe\">\n",
       "  <thead>\n",
       "    <tr style=\"text-align: right;\">\n",
       "      <th></th>\n",
       "      <th>junctiontype</th>\n",
       "      <th>severitycode</th>\n",
       "      <th>count</th>\n",
       "    </tr>\n",
       "  </thead>\n",
       "  <tbody>\n",
       "    <tr>\n",
       "      <th>0</th>\n",
       "      <td>At Intersection (but not related to intersection)</td>\n",
       "      <td>Fatality</td>\n",
       "      <td>3</td>\n",
       "    </tr>\n",
       "    <tr>\n",
       "      <th>1</th>\n",
       "      <td>At Intersection (but not related to intersection)</td>\n",
       "      <td>Injury</td>\n",
       "      <td>624</td>\n",
       "    </tr>\n",
       "    <tr>\n",
       "      <th>2</th>\n",
       "      <td>At Intersection (but not related to intersection)</td>\n",
       "      <td>Prop_damage_only</td>\n",
       "      <td>1475</td>\n",
       "    </tr>\n",
       "    <tr>\n",
       "      <th>3</th>\n",
       "      <td>At Intersection (but not related to intersection)</td>\n",
       "      <td>Serious_injury</td>\n",
       "      <td>23</td>\n",
       "    </tr>\n",
       "    <tr>\n",
       "      <th>4</th>\n",
       "      <td>At Intersection (but not related to intersection)</td>\n",
       "      <td>Unknown</td>\n",
       "      <td>367</td>\n",
       "    </tr>\n",
       "  </tbody>\n",
       "</table>\n",
       "</div>"
      ],
      "text/plain": [
       "                                        junctiontype      severitycode  count\n",
       "0  At Intersection (but not related to intersection)          Fatality      3\n",
       "1  At Intersection (but not related to intersection)            Injury    624\n",
       "2  At Intersection (but not related to intersection)  Prop_damage_only   1475\n",
       "3  At Intersection (but not related to intersection)    Serious_injury     23\n",
       "4  At Intersection (but not related to intersection)           Unknown    367"
      ]
     },
     "execution_count": 28,
     "metadata": {},
     "output_type": "execute_result"
    }
   ],
   "source": [
    "adf = df.groupby(['junctiontype', 'severitycode']).size().to_frame('count').reset_index()\n",
    "adf.head()"
   ]
  },
  {
   "cell_type": "code",
   "execution_count": 29,
   "metadata": {},
   "outputs": [
    {
     "data": {
      "application/vnd.vegalite.v4+json": {
       "$schema": "https://vega.github.io/schema/vega-lite/v4.8.1.json",
       "config": {
        "view": {
         "continuousHeight": 300,
         "continuousWidth": 400
        }
       },
       "data": {
        "name": "data-0f3c615239a4f636e156daf22b57ab30"
       },
       "datasets": {
        "data-0f3c615239a4f636e156daf22b57ab30": [
         {
          "count": 3,
          "junctiontype": "At Intersection (but not related to intersection)",
          "severitycode": "Fatality"
         },
         {
          "count": 624,
          "junctiontype": "At Intersection (but not related to intersection)",
          "severitycode": "Injury"
         },
         {
          "count": 1475,
          "junctiontype": "At Intersection (but not related to intersection)",
          "severitycode": "Prop_damage_only"
         },
         {
          "count": 23,
          "junctiontype": "At Intersection (but not related to intersection)",
          "severitycode": "Serious_injury"
         },
         {
          "count": 367,
          "junctiontype": "At Intersection (but not related to intersection)",
          "severitycode": "Unknown"
         },
         {
          "count": 153,
          "junctiontype": "At Intersection (intersection related)",
          "severitycode": "Fatality"
         },
         {
          "count": 27250,
          "junctiontype": "At Intersection (intersection related)",
          "severitycode": "Injury"
         },
         {
          "count": 35745,
          "junctiontype": "At Intersection (intersection related)",
          "severitycode": "Prop_damage_only"
         },
         {
          "count": 1520,
          "junctiontype": "At Intersection (intersection related)",
          "severitycode": "Serious_injury"
         },
         {
          "count": 4052,
          "junctiontype": "At Intersection (intersection related)",
          "severitycode": "Unknown"
         },
         {
          "count": 8,
          "junctiontype": "Driveway Junction",
          "severitycode": "Fatality"
         },
         {
          "count": 3242,
          "junctiontype": "Driveway Junction",
          "severitycode": "Injury"
         },
         {
          "count": 7454,
          "junctiontype": "Driveway Junction",
          "severitycode": "Prop_damage_only"
         },
         {
          "count": 139,
          "junctiontype": "Driveway Junction",
          "severitycode": "Serious_injury"
         },
         {
          "count": 647,
          "junctiontype": "Driveway Junction",
          "severitycode": "Unknown"
         },
         {
          "count": 20,
          "junctiontype": "Mid-Block (but intersection related)",
          "severitycode": "Fatality"
         },
         {
          "count": 7312,
          "junctiontype": "Mid-Block (but intersection related)",
          "severitycode": "Injury"
         },
         {
          "count": 15512,
          "junctiontype": "Mid-Block (but intersection related)",
          "severitycode": "Prop_damage_only"
         },
         {
          "count": 187,
          "junctiontype": "Mid-Block (but intersection related)",
          "severitycode": "Serious_injury"
         },
         {
          "count": 1335,
          "junctiontype": "Mid-Block (but intersection related)",
          "severitycode": "Unknown"
         },
         {
          "count": 162,
          "junctiontype": "Mid-Block (not related to intersection)",
          "severitycode": "Fatality"
         },
         {
          "count": 19505,
          "junctiontype": "Mid-Block (not related to intersection)",
          "severitycode": "Injury"
         },
         {
          "count": 70641,
          "junctiontype": "Mid-Block (not related to intersection)",
          "severitycode": "Prop_damage_only"
         },
         {
          "count": 1180,
          "junctiontype": "Mid-Block (not related to intersection)",
          "severitycode": "Serious_injury"
         },
         {
          "count": 9530,
          "junctiontype": "Mid-Block (not related to intersection)",
          "severitycode": "Unknown"
         },
         {
          "count": 54,
          "junctiontype": "Ramp Junction",
          "severitycode": "Injury"
         },
         {
          "count": 112,
          "junctiontype": "Ramp Junction",
          "severitycode": "Prop_damage_only"
         },
         {
          "count": 5,
          "junctiontype": "Ramp Junction",
          "severitycode": "Serious_injury"
         },
         {
          "count": 19,
          "junctiontype": "Ramp Junction",
          "severitycode": "Unknown"
         },
         {
          "count": 2,
          "junctiontype": "Unknown",
          "severitycode": "Injury"
         },
         {
          "count": 7,
          "junctiontype": "Unknown",
          "severitycode": "Prop_damage_only"
         },
         {
          "count": 12,
          "junctiontype": "Unknown",
          "severitycode": "Unknown"
         }
        ]
       },
       "encoding": {
        "color": {
         "field": "severitycode",
         "type": "nominal"
        },
        "tooltip": {
         "aggregate": "sum",
         "field": "count",
         "type": "quantitative"
        },
        "x": {
         "aggregate": "sum",
         "field": "count",
         "stack": "normalize",
         "title": "Percentage",
         "type": "quantitative"
        },
        "y": {
         "field": "junctiontype",
         "type": "nominal"
        }
       },
       "mark": "bar"
      },
      "image/png": "[encoded data removed]",
      "text/plain": [
       "<VegaLite 4 object>\n",
       "\n",
       "If you see this message, it means the renderer has not been properly enabled\n",
       "for the frontend that you are using. For more information, see\n",
       "https://altair-viz.github.io/user_guide/troubleshooting.html\n"
      ]
     },
     "execution_count": 29,
     "metadata": {},
     "output_type": "execute_result"
    }
   ],
   "source": [
    "alt.Chart(adf).mark_bar().encode(\n",
    "    x=alt.X('sum(count)', stack=\"normalize\", title=\"Percentage\"),\n",
    "    y='junctiontype',\n",
    "    color='severitycode',\n",
    "    tooltip='sum(count)'\n",
    ")"
   ]
  },
  {
   "cell_type": "markdown",
   "metadata": {},
   "source": [
    "- It was shown earlier (Figure 2) that most accidents happened mid-block; about 65-70% of them only resulted in property damage and 20-30% resulted in injuries.\n",
    "- Intersection related accidents were also common in Figure 2; about 50-60% only resulted in property damage and about 25-40% of the accidents involved injuries."
   ]
  },
  {
   "cell_type": "markdown",
   "metadata": {},
   "source": [
    "## Goal 3: Examine increase or decrease in number of accidents over time"
   ]
  },
  {
   "cell_type": "markdown",
   "metadata": {},
   "source": [
    "### Q1. Has the number of accidents increased or decreased over time?"
   ]
  },
  {
   "cell_type": "markdown",
   "metadata": {},
   "source": [
    "Let's first take a look at the general trend over time in the overall number of accidents"
   ]
  },
  {
   "cell_type": "code",
   "execution_count": 30,
   "metadata": {},
   "outputs": [
    {
     "data": {
      "text/plain": [
       "<matplotlib.axes._subplots.AxesSubplot at 0x128fdd1d0>"
      ]
     },
     "execution_count": 30,
     "metadata": {},
     "output_type": "execute_result"
    },
    {
     "data": {
      "image/png": "[encoded data removed]",
      "text/plain": [
       "<Figure size 720x576 with 1 Axes>"
      ]
     },
     "metadata": {
      "needs_background": "light"
     },
     "output_type": "display_data"
    }
   ],
   "source": [
    "df['year'] = pd.DatetimeIndex(df.incdate).year  # alternate method\n",
    "# Exclude year 2003 because there are only a handful of incidents for this year\n",
    "df = df[df[\"year\"] != 2003]\n",
    "yeardf = df['year'].value_counts(dropna=False).to_frame('count')\n",
    "yeardf = yeardf.sort_index()\n",
    "# Exclude 2020 because the data are incomplete\n",
    "yeardf = yeardf.loc[yeardf.index < 2020] \n",
    "yeardf.plot(figsize=(10, 8))"
   ]
  },
  {
   "cell_type": "markdown",
   "metadata": {},
   "source": [
    "- It looks like there was a decline from 2004 to 2010, then an increase toward 2015, then a decline again toward 2019.\n",
    "- What might have contributed to these declines and increase in accidents? Change in the volume of traffic? Did the City make changes to the location?"
   ]
  },
  {
   "cell_type": "markdown",
   "metadata": {},
   "source": [
    "Would we see a similar pattern for the dangerous locations we have identified earlier? Let's take a look. "
   ]
  },
  {
   "cell_type": "markdown",
   "metadata": {},
   "source": [
    "### Q2. How has the number of incidents changed over time for the most dangerous locations?"
   ]
  },
  {
   "cell_type": "markdown",
   "metadata": {},
   "source": [
    "Let's look at the changes over time in the locations with the highest number of incidents."
   ]
  },
  {
   "cell_type": "code",
   "execution_count": 31,
   "metadata": {},
   "outputs": [
    {
     "data": {
      "image/png": "[encoded data removed]",
      "text/plain": [
       "<Figure size 432x288 with 1 Axes>"
      ]
     },
     "metadata": {
      "needs_background": "light"
     },
     "output_type": "display_data"
    }
   ],
   "source": [
    "# First get the number of total accidents for each year for each of the 7 locations identified earlier\n",
    "manyaccident_df = df[df['location'].isin(locdf.index)]\n",
    "manyaccident_year_data = manyaccident_df.groupby(\n",
    "    ['location', 'year']).size().to_frame('count').reset_index()\n",
    "# Again exclude 2020 since data are still coming in\n",
    "manyaccident_year_data = manyaccident_year_data[(manyaccident_year_data['year'] < 2020)]\n",
    "g = sns.lineplot(x=\"year\", y=\"count\", hue=\"location\", data=manyaccident_year_data)\n",
    "g.legend(loc='center left', bbox_to_anchor=(1.25, 0.5), ncol=1);"
   ]
  },
  {
   "cell_type": "markdown",
   "metadata": {},
   "source": [
    "- In general, there is a downward trend toward 2018\n",
    "- Green line is going up after 2018\n",
    "- Brown line stops at 2018\n",
    "- Note: Brown line is the location where many vehicles were hitting an object in Table 1\n",
    "- Purple line took a sharp decline after 2018 (may have been closed for construction)"
   ]
  },
  {
   "cell_type": "markdown",
   "metadata": {},
   "source": [
    "## Conclusions\n",
    "\n",
    "This was my first time looking into collision data, and this dataset did not seem to offer a lot of information at first glance. But I did learn several things.  \n",
    "\n",
    "- I had expected to find that bad weather or darkness is related to more accidents, but this data exploration reminded me that more accidents happen when more people travel during the day or when the weather is nice\n",
    "- The majority of accidents involve property damage only and not injuries\n",
    "- Even though I started this project because of seemingly dangerous intersections, this dataset tells me that more accidents happen mid-block than at intersections\n",
    "- Table 1 tells me that different locations may have different risk factors for accidents, and may benefit from differentiated intervention\n",
    "- I need more information or data (e.g., the total traffic volume for each location on each day, when each location was under consturction) to understand what is associated with accidents"
   ]
  },
  {
   "cell_type": "code",
   "execution_count": null,
   "metadata": {},
   "outputs": [],
   "source": []
  }
 ],
 "metadata": {
  "kernelspec": {
   "display_name": "Python 3",
   "language": "python",
   "name": "python3"
  },
  "language_info": {
   "codemirror_mode": {
    "name": "ipython",
    "version": 3
   },
   "file_extension": ".py",
   "mimetype": "text/x-python",
   "name": "python",
   "nbconvert_exporter": "python",
   "pygments_lexer": "ipython3",
   "version": "3.7.7"
  }
 },
 "nbformat": 4,
 "nbformat_minor": 4
}
